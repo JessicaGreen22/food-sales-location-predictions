{
  "nbformat": 4,
  "nbformat_minor": 0,
  "metadata": {
    "colab": {
      "name": "Food-Sales predictions",
      "provenance": [],
      "collapsed_sections": [],
      "mount_file_id": "1AMB2Fsu-fyl-AJ5ndl0YwvLa8Yge2oHP",
      "authorship_tag": "ABX9TyOM8BjEC/S609WJZj62NFnv",
      "include_colab_link": true
    },
    "kernelspec": {
      "name": "python3",
      "display_name": "Python 3"
    },
    "language_info": {
      "name": "python"
    }
  },
  "cells": [
    {
      "cell_type": "markdown",
      "metadata": {
        "id": "view-in-github",
        "colab_type": "text"
      },
      "source": [
        "<a href=\"https://colab.research.google.com/github/JessicaGreen22/food-sales-location-predictions/blob/main/Food_Sales_predictions.ipynb\" target=\"_parent\"><img src=\"https://colab.research.google.com/assets/colab-badge.svg\" alt=\"Open In Colab\"/></a>"
      ]
    },
    {
      "cell_type": "code",
      "execution_count": 24,
      "metadata": {
        "id": "7bY7JG26dpyy"
      },
      "outputs": [],
      "source": [
        "import pandas as pd\n",
        "\n",
        "filename = '/content/sales_predictions.csv'"
      ]
    },
    {
      "cell_type": "code",
      "source": [
        "#imports\n",
        "import pandas as pd\n",
        "import numpy as np\n",
        "from sklearn.preprocessing import StandardScaler, OneHotEncoder\n",
        "from sklearn.impute import SimpleImputer\n",
        "from sklearn.compose import make_column_transformer, make_column_selector\n",
        "from sklearn.pipeline import make_pipeline\n",
        "from sklearn.model_selection import train_test_split\n",
        "from sklearn import set_config\n",
        "set_config(display='diagram')"
      ],
      "metadata": {
        "id": "F5g0_MCMdG61"
      },
      "execution_count": 25,
      "outputs": []
    },
    {
      "cell_type": "code",
      "source": [
        "df = pd.read_csv(\"/content/sales_predictions.csv\")\n",
        "df.head()"
      ],
      "metadata": {
        "colab": {
          "base_uri": "https://localhost:8080/",
          "height": 357
        },
        "id": "j9TJEkRyh0GR",
        "outputId": "f7d90931-3424-4da6-f073-9dac156f914f"
      },
      "execution_count": 26,
      "outputs": [
        {
          "output_type": "execute_result",
          "data": {
            "text/plain": [
              "  Item_Identifier  Item_Weight Item_Fat_Content  Item_Visibility  \\\n",
              "0           FDA15         9.30          Low Fat         0.016047   \n",
              "1           DRC01         5.92          Regular         0.019278   \n",
              "2           FDN15        17.50          Low Fat         0.016760   \n",
              "3           FDX07        19.20          Regular         0.000000   \n",
              "4           NCD19         8.93          Low Fat         0.000000   \n",
              "\n",
              "               Item_Type  Item_MRP Outlet_Identifier  \\\n",
              "0                  Dairy  249.8092            OUT049   \n",
              "1            Soft Drinks   48.2692            OUT018   \n",
              "2                   Meat  141.6180            OUT049   \n",
              "3  Fruits and Vegetables  182.0950            OUT010   \n",
              "4              Household   53.8614            OUT013   \n",
              "\n",
              "   Outlet_Establishment_Year Outlet_Size Outlet_Location_Type  \\\n",
              "0                       1999      Medium               Tier 1   \n",
              "1                       2009      Medium               Tier 3   \n",
              "2                       1999      Medium               Tier 1   \n",
              "3                       1998         NaN               Tier 3   \n",
              "4                       1987        High               Tier 3   \n",
              "\n",
              "         Outlet_Type  Item_Outlet_Sales  \n",
              "0  Supermarket Type1          3735.1380  \n",
              "1  Supermarket Type2           443.4228  \n",
              "2  Supermarket Type1          2097.2700  \n",
              "3      Grocery Store           732.3800  \n",
              "4  Supermarket Type1           994.7052  "
            ],
            "text/html": [
              "\n",
              "  <div id=\"df-f1e60f62-5b9b-49f8-8915-ad227090e1ef\">\n",
              "    <div class=\"colab-df-container\">\n",
              "      <div>\n",
              "<style scoped>\n",
              "    .dataframe tbody tr th:only-of-type {\n",
              "        vertical-align: middle;\n",
              "    }\n",
              "\n",
              "    .dataframe tbody tr th {\n",
              "        vertical-align: top;\n",
              "    }\n",
              "\n",
              "    .dataframe thead th {\n",
              "        text-align: right;\n",
              "    }\n",
              "</style>\n",
              "<table border=\"1\" class=\"dataframe\">\n",
              "  <thead>\n",
              "    <tr style=\"text-align: right;\">\n",
              "      <th></th>\n",
              "      <th>Item_Identifier</th>\n",
              "      <th>Item_Weight</th>\n",
              "      <th>Item_Fat_Content</th>\n",
              "      <th>Item_Visibility</th>\n",
              "      <th>Item_Type</th>\n",
              "      <th>Item_MRP</th>\n",
              "      <th>Outlet_Identifier</th>\n",
              "      <th>Outlet_Establishment_Year</th>\n",
              "      <th>Outlet_Size</th>\n",
              "      <th>Outlet_Location_Type</th>\n",
              "      <th>Outlet_Type</th>\n",
              "      <th>Item_Outlet_Sales</th>\n",
              "    </tr>\n",
              "  </thead>\n",
              "  <tbody>\n",
              "    <tr>\n",
              "      <th>0</th>\n",
              "      <td>FDA15</td>\n",
              "      <td>9.30</td>\n",
              "      <td>Low Fat</td>\n",
              "      <td>0.016047</td>\n",
              "      <td>Dairy</td>\n",
              "      <td>249.8092</td>\n",
              "      <td>OUT049</td>\n",
              "      <td>1999</td>\n",
              "      <td>Medium</td>\n",
              "      <td>Tier 1</td>\n",
              "      <td>Supermarket Type1</td>\n",
              "      <td>3735.1380</td>\n",
              "    </tr>\n",
              "    <tr>\n",
              "      <th>1</th>\n",
              "      <td>DRC01</td>\n",
              "      <td>5.92</td>\n",
              "      <td>Regular</td>\n",
              "      <td>0.019278</td>\n",
              "      <td>Soft Drinks</td>\n",
              "      <td>48.2692</td>\n",
              "      <td>OUT018</td>\n",
              "      <td>2009</td>\n",
              "      <td>Medium</td>\n",
              "      <td>Tier 3</td>\n",
              "      <td>Supermarket Type2</td>\n",
              "      <td>443.4228</td>\n",
              "    </tr>\n",
              "    <tr>\n",
              "      <th>2</th>\n",
              "      <td>FDN15</td>\n",
              "      <td>17.50</td>\n",
              "      <td>Low Fat</td>\n",
              "      <td>0.016760</td>\n",
              "      <td>Meat</td>\n",
              "      <td>141.6180</td>\n",
              "      <td>OUT049</td>\n",
              "      <td>1999</td>\n",
              "      <td>Medium</td>\n",
              "      <td>Tier 1</td>\n",
              "      <td>Supermarket Type1</td>\n",
              "      <td>2097.2700</td>\n",
              "    </tr>\n",
              "    <tr>\n",
              "      <th>3</th>\n",
              "      <td>FDX07</td>\n",
              "      <td>19.20</td>\n",
              "      <td>Regular</td>\n",
              "      <td>0.000000</td>\n",
              "      <td>Fruits and Vegetables</td>\n",
              "      <td>182.0950</td>\n",
              "      <td>OUT010</td>\n",
              "      <td>1998</td>\n",
              "      <td>NaN</td>\n",
              "      <td>Tier 3</td>\n",
              "      <td>Grocery Store</td>\n",
              "      <td>732.3800</td>\n",
              "    </tr>\n",
              "    <tr>\n",
              "      <th>4</th>\n",
              "      <td>NCD19</td>\n",
              "      <td>8.93</td>\n",
              "      <td>Low Fat</td>\n",
              "      <td>0.000000</td>\n",
              "      <td>Household</td>\n",
              "      <td>53.8614</td>\n",
              "      <td>OUT013</td>\n",
              "      <td>1987</td>\n",
              "      <td>High</td>\n",
              "      <td>Tier 3</td>\n",
              "      <td>Supermarket Type1</td>\n",
              "      <td>994.7052</td>\n",
              "    </tr>\n",
              "  </tbody>\n",
              "</table>\n",
              "</div>\n",
              "      <button class=\"colab-df-convert\" onclick=\"convertToInteractive('df-f1e60f62-5b9b-49f8-8915-ad227090e1ef')\"\n",
              "              title=\"Convert this dataframe to an interactive table.\"\n",
              "              style=\"display:none;\">\n",
              "        \n",
              "  <svg xmlns=\"http://www.w3.org/2000/svg\" height=\"24px\"viewBox=\"0 0 24 24\"\n",
              "       width=\"24px\">\n",
              "    <path d=\"M0 0h24v24H0V0z\" fill=\"none\"/>\n",
              "    <path d=\"M18.56 5.44l.94 2.06.94-2.06 2.06-.94-2.06-.94-.94-2.06-.94 2.06-2.06.94zm-11 1L8.5 8.5l.94-2.06 2.06-.94-2.06-.94L8.5 2.5l-.94 2.06-2.06.94zm10 10l.94 2.06.94-2.06 2.06-.94-2.06-.94-.94-2.06-.94 2.06-2.06.94z\"/><path d=\"M17.41 7.96l-1.37-1.37c-.4-.4-.92-.59-1.43-.59-.52 0-1.04.2-1.43.59L10.3 9.45l-7.72 7.72c-.78.78-.78 2.05 0 2.83L4 21.41c.39.39.9.59 1.41.59.51 0 1.02-.2 1.41-.59l7.78-7.78 2.81-2.81c.8-.78.8-2.07 0-2.86zM5.41 20L4 18.59l7.72-7.72 1.47 1.35L5.41 20z\"/>\n",
              "  </svg>\n",
              "      </button>\n",
              "      \n",
              "  <style>\n",
              "    .colab-df-container {\n",
              "      display:flex;\n",
              "      flex-wrap:wrap;\n",
              "      gap: 12px;\n",
              "    }\n",
              "\n",
              "    .colab-df-convert {\n",
              "      background-color: #E8F0FE;\n",
              "      border: none;\n",
              "      border-radius: 50%;\n",
              "      cursor: pointer;\n",
              "      display: none;\n",
              "      fill: #1967D2;\n",
              "      height: 32px;\n",
              "      padding: 0 0 0 0;\n",
              "      width: 32px;\n",
              "    }\n",
              "\n",
              "    .colab-df-convert:hover {\n",
              "      background-color: #E2EBFA;\n",
              "      box-shadow: 0px 1px 2px rgba(60, 64, 67, 0.3), 0px 1px 3px 1px rgba(60, 64, 67, 0.15);\n",
              "      fill: #174EA6;\n",
              "    }\n",
              "\n",
              "    [theme=dark] .colab-df-convert {\n",
              "      background-color: #3B4455;\n",
              "      fill: #D2E3FC;\n",
              "    }\n",
              "\n",
              "    [theme=dark] .colab-df-convert:hover {\n",
              "      background-color: #434B5C;\n",
              "      box-shadow: 0px 1px 3px 1px rgba(0, 0, 0, 0.15);\n",
              "      filter: drop-shadow(0px 1px 2px rgba(0, 0, 0, 0.3));\n",
              "      fill: #FFFFFF;\n",
              "    }\n",
              "  </style>\n",
              "\n",
              "      <script>\n",
              "        const buttonEl =\n",
              "          document.querySelector('#df-f1e60f62-5b9b-49f8-8915-ad227090e1ef button.colab-df-convert');\n",
              "        buttonEl.style.display =\n",
              "          google.colab.kernel.accessAllowed ? 'block' : 'none';\n",
              "\n",
              "        async function convertToInteractive(key) {\n",
              "          const element = document.querySelector('#df-f1e60f62-5b9b-49f8-8915-ad227090e1ef');\n",
              "          const dataTable =\n",
              "            await google.colab.kernel.invokeFunction('convertToInteractive',\n",
              "                                                     [key], {});\n",
              "          if (!dataTable) return;\n",
              "\n",
              "          const docLinkHtml = 'Like what you see? Visit the ' +\n",
              "            '<a target=\"_blank\" href=https://colab.research.google.com/notebooks/data_table.ipynb>data table notebook</a>'\n",
              "            + ' to learn more about interactive tables.';\n",
              "          element.innerHTML = '';\n",
              "          dataTable['output_type'] = 'display_data';\n",
              "          await google.colab.output.renderOutput(dataTable, element);\n",
              "          const docLink = document.createElement('div');\n",
              "          docLink.innerHTML = docLinkHtml;\n",
              "          element.appendChild(docLink);\n",
              "        }\n",
              "      </script>\n",
              "    </div>\n",
              "  </div>\n",
              "  "
            ]
          },
          "metadata": {},
          "execution_count": 26
        }
      ]
    },
    {
      "cell_type": "code",
      "source": [
        "df.info()"
      ],
      "metadata": {
        "id": "Be83je3-zGCp",
        "outputId": "e2f57bcf-1907-4cfd-fa5f-6c6fc2321664",
        "colab": {
          "base_uri": "https://localhost:8080/"
        }
      },
      "execution_count": 27,
      "outputs": [
        {
          "output_type": "stream",
          "name": "stdout",
          "text": [
            "<class 'pandas.core.frame.DataFrame'>\n",
            "RangeIndex: 8523 entries, 0 to 8522\n",
            "Data columns (total 12 columns):\n",
            " #   Column                     Non-Null Count  Dtype  \n",
            "---  ------                     --------------  -----  \n",
            " 0   Item_Identifier            8523 non-null   object \n",
            " 1   Item_Weight                7060 non-null   float64\n",
            " 2   Item_Fat_Content           8523 non-null   object \n",
            " 3   Item_Visibility            8523 non-null   float64\n",
            " 4   Item_Type                  8523 non-null   object \n",
            " 5   Item_MRP                   8523 non-null   float64\n",
            " 6   Outlet_Identifier          8523 non-null   object \n",
            " 7   Outlet_Establishment_Year  8523 non-null   int64  \n",
            " 8   Outlet_Size                6113 non-null   object \n",
            " 9   Outlet_Location_Type       8523 non-null   object \n",
            " 10  Outlet_Type                8523 non-null   object \n",
            " 11  Item_Outlet_Sales          8523 non-null   float64\n",
            "dtypes: float64(4), int64(1), object(7)\n",
            "memory usage: 799.2+ KB\n"
          ]
        }
      ]
    },
    {
      "cell_type": "code",
      "source": [
        "sales = pd.read_csv(\"/content/sales_predictions.csv\") \n",
        "sales"
      ],
      "metadata": {
        "id": "34QrmLK905MJ",
        "outputId": "645d4904-00dd-437b-e27c-feffc1cdef2f",
        "colab": {
          "base_uri": "https://localhost:8080/",
          "height": 661
        }
      },
      "execution_count": 28,
      "outputs": [
        {
          "output_type": "execute_result",
          "data": {
            "text/plain": [
              "     Item_Identifier  Item_Weight Item_Fat_Content  Item_Visibility  \\\n",
              "0              FDA15        9.300          Low Fat         0.016047   \n",
              "1              DRC01        5.920          Regular         0.019278   \n",
              "2              FDN15       17.500          Low Fat         0.016760   \n",
              "3              FDX07       19.200          Regular         0.000000   \n",
              "4              NCD19        8.930          Low Fat         0.000000   \n",
              "...              ...          ...              ...              ...   \n",
              "8518           FDF22        6.865          Low Fat         0.056783   \n",
              "8519           FDS36        8.380          Regular         0.046982   \n",
              "8520           NCJ29       10.600          Low Fat         0.035186   \n",
              "8521           FDN46        7.210          Regular         0.145221   \n",
              "8522           DRG01       14.800          Low Fat         0.044878   \n",
              "\n",
              "                  Item_Type  Item_MRP Outlet_Identifier  \\\n",
              "0                     Dairy  249.8092            OUT049   \n",
              "1               Soft Drinks   48.2692            OUT018   \n",
              "2                      Meat  141.6180            OUT049   \n",
              "3     Fruits and Vegetables  182.0950            OUT010   \n",
              "4                 Household   53.8614            OUT013   \n",
              "...                     ...       ...               ...   \n",
              "8518            Snack Foods  214.5218            OUT013   \n",
              "8519           Baking Goods  108.1570            OUT045   \n",
              "8520     Health and Hygiene   85.1224            OUT035   \n",
              "8521            Snack Foods  103.1332            OUT018   \n",
              "8522            Soft Drinks   75.4670            OUT046   \n",
              "\n",
              "      Outlet_Establishment_Year Outlet_Size Outlet_Location_Type  \\\n",
              "0                          1999      Medium               Tier 1   \n",
              "1                          2009      Medium               Tier 3   \n",
              "2                          1999      Medium               Tier 1   \n",
              "3                          1998         NaN               Tier 3   \n",
              "4                          1987        High               Tier 3   \n",
              "...                         ...         ...                  ...   \n",
              "8518                       1987        High               Tier 3   \n",
              "8519                       2002         NaN               Tier 2   \n",
              "8520                       2004       Small               Tier 2   \n",
              "8521                       2009      Medium               Tier 3   \n",
              "8522                       1997       Small               Tier 1   \n",
              "\n",
              "            Outlet_Type  Item_Outlet_Sales  \n",
              "0     Supermarket Type1          3735.1380  \n",
              "1     Supermarket Type2           443.4228  \n",
              "2     Supermarket Type1          2097.2700  \n",
              "3         Grocery Store           732.3800  \n",
              "4     Supermarket Type1           994.7052  \n",
              "...                 ...                ...  \n",
              "8518  Supermarket Type1          2778.3834  \n",
              "8519  Supermarket Type1           549.2850  \n",
              "8520  Supermarket Type1          1193.1136  \n",
              "8521  Supermarket Type2          1845.5976  \n",
              "8522  Supermarket Type1           765.6700  \n",
              "\n",
              "[8523 rows x 12 columns]"
            ],
            "text/html": [
              "\n",
              "  <div id=\"df-520cdce2-9b2d-48e9-929f-eee1ad04b301\">\n",
              "    <div class=\"colab-df-container\">\n",
              "      <div>\n",
              "<style scoped>\n",
              "    .dataframe tbody tr th:only-of-type {\n",
              "        vertical-align: middle;\n",
              "    }\n",
              "\n",
              "    .dataframe tbody tr th {\n",
              "        vertical-align: top;\n",
              "    }\n",
              "\n",
              "    .dataframe thead th {\n",
              "        text-align: right;\n",
              "    }\n",
              "</style>\n",
              "<table border=\"1\" class=\"dataframe\">\n",
              "  <thead>\n",
              "    <tr style=\"text-align: right;\">\n",
              "      <th></th>\n",
              "      <th>Item_Identifier</th>\n",
              "      <th>Item_Weight</th>\n",
              "      <th>Item_Fat_Content</th>\n",
              "      <th>Item_Visibility</th>\n",
              "      <th>Item_Type</th>\n",
              "      <th>Item_MRP</th>\n",
              "      <th>Outlet_Identifier</th>\n",
              "      <th>Outlet_Establishment_Year</th>\n",
              "      <th>Outlet_Size</th>\n",
              "      <th>Outlet_Location_Type</th>\n",
              "      <th>Outlet_Type</th>\n",
              "      <th>Item_Outlet_Sales</th>\n",
              "    </tr>\n",
              "  </thead>\n",
              "  <tbody>\n",
              "    <tr>\n",
              "      <th>0</th>\n",
              "      <td>FDA15</td>\n",
              "      <td>9.300</td>\n",
              "      <td>Low Fat</td>\n",
              "      <td>0.016047</td>\n",
              "      <td>Dairy</td>\n",
              "      <td>249.8092</td>\n",
              "      <td>OUT049</td>\n",
              "      <td>1999</td>\n",
              "      <td>Medium</td>\n",
              "      <td>Tier 1</td>\n",
              "      <td>Supermarket Type1</td>\n",
              "      <td>3735.1380</td>\n",
              "    </tr>\n",
              "    <tr>\n",
              "      <th>1</th>\n",
              "      <td>DRC01</td>\n",
              "      <td>5.920</td>\n",
              "      <td>Regular</td>\n",
              "      <td>0.019278</td>\n",
              "      <td>Soft Drinks</td>\n",
              "      <td>48.2692</td>\n",
              "      <td>OUT018</td>\n",
              "      <td>2009</td>\n",
              "      <td>Medium</td>\n",
              "      <td>Tier 3</td>\n",
              "      <td>Supermarket Type2</td>\n",
              "      <td>443.4228</td>\n",
              "    </tr>\n",
              "    <tr>\n",
              "      <th>2</th>\n",
              "      <td>FDN15</td>\n",
              "      <td>17.500</td>\n",
              "      <td>Low Fat</td>\n",
              "      <td>0.016760</td>\n",
              "      <td>Meat</td>\n",
              "      <td>141.6180</td>\n",
              "      <td>OUT049</td>\n",
              "      <td>1999</td>\n",
              "      <td>Medium</td>\n",
              "      <td>Tier 1</td>\n",
              "      <td>Supermarket Type1</td>\n",
              "      <td>2097.2700</td>\n",
              "    </tr>\n",
              "    <tr>\n",
              "      <th>3</th>\n",
              "      <td>FDX07</td>\n",
              "      <td>19.200</td>\n",
              "      <td>Regular</td>\n",
              "      <td>0.000000</td>\n",
              "      <td>Fruits and Vegetables</td>\n",
              "      <td>182.0950</td>\n",
              "      <td>OUT010</td>\n",
              "      <td>1998</td>\n",
              "      <td>NaN</td>\n",
              "      <td>Tier 3</td>\n",
              "      <td>Grocery Store</td>\n",
              "      <td>732.3800</td>\n",
              "    </tr>\n",
              "    <tr>\n",
              "      <th>4</th>\n",
              "      <td>NCD19</td>\n",
              "      <td>8.930</td>\n",
              "      <td>Low Fat</td>\n",
              "      <td>0.000000</td>\n",
              "      <td>Household</td>\n",
              "      <td>53.8614</td>\n",
              "      <td>OUT013</td>\n",
              "      <td>1987</td>\n",
              "      <td>High</td>\n",
              "      <td>Tier 3</td>\n",
              "      <td>Supermarket Type1</td>\n",
              "      <td>994.7052</td>\n",
              "    </tr>\n",
              "    <tr>\n",
              "      <th>...</th>\n",
              "      <td>...</td>\n",
              "      <td>...</td>\n",
              "      <td>...</td>\n",
              "      <td>...</td>\n",
              "      <td>...</td>\n",
              "      <td>...</td>\n",
              "      <td>...</td>\n",
              "      <td>...</td>\n",
              "      <td>...</td>\n",
              "      <td>...</td>\n",
              "      <td>...</td>\n",
              "      <td>...</td>\n",
              "    </tr>\n",
              "    <tr>\n",
              "      <th>8518</th>\n",
              "      <td>FDF22</td>\n",
              "      <td>6.865</td>\n",
              "      <td>Low Fat</td>\n",
              "      <td>0.056783</td>\n",
              "      <td>Snack Foods</td>\n",
              "      <td>214.5218</td>\n",
              "      <td>OUT013</td>\n",
              "      <td>1987</td>\n",
              "      <td>High</td>\n",
              "      <td>Tier 3</td>\n",
              "      <td>Supermarket Type1</td>\n",
              "      <td>2778.3834</td>\n",
              "    </tr>\n",
              "    <tr>\n",
              "      <th>8519</th>\n",
              "      <td>FDS36</td>\n",
              "      <td>8.380</td>\n",
              "      <td>Regular</td>\n",
              "      <td>0.046982</td>\n",
              "      <td>Baking Goods</td>\n",
              "      <td>108.1570</td>\n",
              "      <td>OUT045</td>\n",
              "      <td>2002</td>\n",
              "      <td>NaN</td>\n",
              "      <td>Tier 2</td>\n",
              "      <td>Supermarket Type1</td>\n",
              "      <td>549.2850</td>\n",
              "    </tr>\n",
              "    <tr>\n",
              "      <th>8520</th>\n",
              "      <td>NCJ29</td>\n",
              "      <td>10.600</td>\n",
              "      <td>Low Fat</td>\n",
              "      <td>0.035186</td>\n",
              "      <td>Health and Hygiene</td>\n",
              "      <td>85.1224</td>\n",
              "      <td>OUT035</td>\n",
              "      <td>2004</td>\n",
              "      <td>Small</td>\n",
              "      <td>Tier 2</td>\n",
              "      <td>Supermarket Type1</td>\n",
              "      <td>1193.1136</td>\n",
              "    </tr>\n",
              "    <tr>\n",
              "      <th>8521</th>\n",
              "      <td>FDN46</td>\n",
              "      <td>7.210</td>\n",
              "      <td>Regular</td>\n",
              "      <td>0.145221</td>\n",
              "      <td>Snack Foods</td>\n",
              "      <td>103.1332</td>\n",
              "      <td>OUT018</td>\n",
              "      <td>2009</td>\n",
              "      <td>Medium</td>\n",
              "      <td>Tier 3</td>\n",
              "      <td>Supermarket Type2</td>\n",
              "      <td>1845.5976</td>\n",
              "    </tr>\n",
              "    <tr>\n",
              "      <th>8522</th>\n",
              "      <td>DRG01</td>\n",
              "      <td>14.800</td>\n",
              "      <td>Low Fat</td>\n",
              "      <td>0.044878</td>\n",
              "      <td>Soft Drinks</td>\n",
              "      <td>75.4670</td>\n",
              "      <td>OUT046</td>\n",
              "      <td>1997</td>\n",
              "      <td>Small</td>\n",
              "      <td>Tier 1</td>\n",
              "      <td>Supermarket Type1</td>\n",
              "      <td>765.6700</td>\n",
              "    </tr>\n",
              "  </tbody>\n",
              "</table>\n",
              "<p>8523 rows × 12 columns</p>\n",
              "</div>\n",
              "      <button class=\"colab-df-convert\" onclick=\"convertToInteractive('df-520cdce2-9b2d-48e9-929f-eee1ad04b301')\"\n",
              "              title=\"Convert this dataframe to an interactive table.\"\n",
              "              style=\"display:none;\">\n",
              "        \n",
              "  <svg xmlns=\"http://www.w3.org/2000/svg\" height=\"24px\"viewBox=\"0 0 24 24\"\n",
              "       width=\"24px\">\n",
              "    <path d=\"M0 0h24v24H0V0z\" fill=\"none\"/>\n",
              "    <path d=\"M18.56 5.44l.94 2.06.94-2.06 2.06-.94-2.06-.94-.94-2.06-.94 2.06-2.06.94zm-11 1L8.5 8.5l.94-2.06 2.06-.94-2.06-.94L8.5 2.5l-.94 2.06-2.06.94zm10 10l.94 2.06.94-2.06 2.06-.94-2.06-.94-.94-2.06-.94 2.06-2.06.94z\"/><path d=\"M17.41 7.96l-1.37-1.37c-.4-.4-.92-.59-1.43-.59-.52 0-1.04.2-1.43.59L10.3 9.45l-7.72 7.72c-.78.78-.78 2.05 0 2.83L4 21.41c.39.39.9.59 1.41.59.51 0 1.02-.2 1.41-.59l7.78-7.78 2.81-2.81c.8-.78.8-2.07 0-2.86zM5.41 20L4 18.59l7.72-7.72 1.47 1.35L5.41 20z\"/>\n",
              "  </svg>\n",
              "      </button>\n",
              "      \n",
              "  <style>\n",
              "    .colab-df-container {\n",
              "      display:flex;\n",
              "      flex-wrap:wrap;\n",
              "      gap: 12px;\n",
              "    }\n",
              "\n",
              "    .colab-df-convert {\n",
              "      background-color: #E8F0FE;\n",
              "      border: none;\n",
              "      border-radius: 50%;\n",
              "      cursor: pointer;\n",
              "      display: none;\n",
              "      fill: #1967D2;\n",
              "      height: 32px;\n",
              "      padding: 0 0 0 0;\n",
              "      width: 32px;\n",
              "    }\n",
              "\n",
              "    .colab-df-convert:hover {\n",
              "      background-color: #E2EBFA;\n",
              "      box-shadow: 0px 1px 2px rgba(60, 64, 67, 0.3), 0px 1px 3px 1px rgba(60, 64, 67, 0.15);\n",
              "      fill: #174EA6;\n",
              "    }\n",
              "\n",
              "    [theme=dark] .colab-df-convert {\n",
              "      background-color: #3B4455;\n",
              "      fill: #D2E3FC;\n",
              "    }\n",
              "\n",
              "    [theme=dark] .colab-df-convert:hover {\n",
              "      background-color: #434B5C;\n",
              "      box-shadow: 0px 1px 3px 1px rgba(0, 0, 0, 0.15);\n",
              "      filter: drop-shadow(0px 1px 2px rgba(0, 0, 0, 0.3));\n",
              "      fill: #FFFFFF;\n",
              "    }\n",
              "  </style>\n",
              "\n",
              "      <script>\n",
              "        const buttonEl =\n",
              "          document.querySelector('#df-520cdce2-9b2d-48e9-929f-eee1ad04b301 button.colab-df-convert');\n",
              "        buttonEl.style.display =\n",
              "          google.colab.kernel.accessAllowed ? 'block' : 'none';\n",
              "\n",
              "        async function convertToInteractive(key) {\n",
              "          const element = document.querySelector('#df-520cdce2-9b2d-48e9-929f-eee1ad04b301');\n",
              "          const dataTable =\n",
              "            await google.colab.kernel.invokeFunction('convertToInteractive',\n",
              "                                                     [key], {});\n",
              "          if (!dataTable) return;\n",
              "\n",
              "          const docLinkHtml = 'Like what you see? Visit the ' +\n",
              "            '<a target=\"_blank\" href=https://colab.research.google.com/notebooks/data_table.ipynb>data table notebook</a>'\n",
              "            + ' to learn more about interactive tables.';\n",
              "          element.innerHTML = '';\n",
              "          dataTable['output_type'] = 'display_data';\n",
              "          await google.colab.output.renderOutput(dataTable, element);\n",
              "          const docLink = document.createElement('div');\n",
              "          docLink.innerHTML = docLinkHtml;\n",
              "          element.appendChild(docLink);\n",
              "        }\n",
              "      </script>\n",
              "    </div>\n",
              "  </div>\n",
              "  "
            ]
          },
          "metadata": {},
          "execution_count": 28
        }
      ]
    },
    {
      "cell_type": "code",
      "source": [
        "df = pd.DataFrame(sales)\n",
        "print(df.dtypes)"
      ],
      "metadata": {
        "id": "j5hX2mZx1ZQB",
        "outputId": "49d8ef1d-d8a6-489a-bc8d-5c6af4bab807",
        "colab": {
          "base_uri": "https://localhost:8080/"
        }
      },
      "execution_count": 29,
      "outputs": [
        {
          "output_type": "stream",
          "name": "stdout",
          "text": [
            "Item_Identifier               object\n",
            "Item_Weight                  float64\n",
            "Item_Fat_Content              object\n",
            "Item_Visibility              float64\n",
            "Item_Type                     object\n",
            "Item_MRP                     float64\n",
            "Outlet_Identifier             object\n",
            "Outlet_Establishment_Year      int64\n",
            "Outlet_Size                   object\n",
            "Outlet_Location_Type          object\n",
            "Outlet_Type                   object\n",
            "Item_Outlet_Sales            float64\n",
            "dtype: object\n"
          ]
        }
      ]
    },
    {
      "cell_type": "code",
      "source": [
        "#check for duplicates\n",
        "sales.duplicated().sum()"
      ],
      "metadata": {
        "id": "Q-i9qzEG3t39",
        "outputId": "d8250c54-56ec-4f84-da03-cb550fd5eecd",
        "colab": {
          "base_uri": "https://localhost:8080/"
        }
      },
      "execution_count": 30,
      "outputs": [
        {
          "output_type": "execute_result",
          "data": {
            "text/plain": [
              "0"
            ]
          },
          "metadata": {},
          "execution_count": 30
        }
      ]
    },
    {
      "cell_type": "code",
      "source": [
        "#Split data \n",
        "X = df.drop('Item_Outlet_Sales', axis=1)\n",
        "y = df['Item_Outlet_Sales']\n",
        "X_train, X_test, y_train, y_test = train_test_split(X, y,random_state=42)"
      ],
      "metadata": {
        "id": "sxATIEKYfg6S"
      },
      "execution_count": 31,
      "outputs": []
    },
    {
      "cell_type": "code",
      "source": [
        "#selectors\n",
        "cat_selector = make_column_selector(dtype_include='object')\n",
        "num_selector = make_column_selector(dtype_include='number')"
      ],
      "metadata": {
        "id": "VUUrUh_4gxOF"
      },
      "execution_count": 32,
      "outputs": []
    },
    {
      "cell_type": "code",
      "source": [
        "cat_selector(X_train)"
      ],
      "metadata": {
        "colab": {
          "base_uri": "https://localhost:8080/"
        },
        "id": "lS849hlX4G5g",
        "outputId": "70564b73-ba04-4ba9-ccb8-c443ab9c2360"
      },
      "execution_count": 33,
      "outputs": [
        {
          "output_type": "execute_result",
          "data": {
            "text/plain": [
              "['Item_Identifier',\n",
              " 'Item_Fat_Content',\n",
              " 'Item_Type',\n",
              " 'Outlet_Identifier',\n",
              " 'Outlet_Size',\n",
              " 'Outlet_Location_Type',\n",
              " 'Outlet_Type']"
            ]
          },
          "metadata": {},
          "execution_count": 33
        }
      ]
    },
    {
      "cell_type": "code",
      "source": [
        "train_cat_data = X_train[cat_selector(X_train)]\n",
        "test_cat_data = X_test[cat_selector(X_test)]\n",
        "train_cat_data"
      ],
      "metadata": {
        "colab": {
          "base_uri": "https://localhost:8080/",
          "height": 424
        },
        "id": "1miRTMA_4fnP",
        "outputId": "cc26d003-27a8-48fc-eb31-a667ec6d3113"
      },
      "execution_count": 34,
      "outputs": [
        {
          "output_type": "execute_result",
          "data": {
            "text/plain": [
              "     Item_Identifier Item_Fat_Content              Item_Type  \\\n",
              "4776           NCG06          Low Fat              Household   \n",
              "7510           FDV57          Regular            Snack Foods   \n",
              "5828           FDM27          Regular                   Meat   \n",
              "5327           FDG24          Low Fat           Baking Goods   \n",
              "4810           FDD05          Low Fat           Frozen Foods   \n",
              "...              ...              ...                    ...   \n",
              "5734           FDY08          Regular  Fruits and Vegetables   \n",
              "5191           FDC41          Low Fat           Frozen Foods   \n",
              "5390           NCQ53          Low Fat     Health and Hygiene   \n",
              "860            FDL46          low fat            Snack Foods   \n",
              "7270           NCN30               LF              Household   \n",
              "\n",
              "     Outlet_Identifier Outlet_Size Outlet_Location_Type        Outlet_Type  \n",
              "4776            OUT018      Medium               Tier 3  Supermarket Type2  \n",
              "7510            OUT018      Medium               Tier 3  Supermarket Type2  \n",
              "5828            OUT049      Medium               Tier 1  Supermarket Type1  \n",
              "5327            OUT035       Small               Tier 2  Supermarket Type1  \n",
              "4810            OUT045         NaN               Tier 2  Supermarket Type1  \n",
              "...                ...         ...                  ...                ...  \n",
              "5734            OUT010         NaN               Tier 3      Grocery Store  \n",
              "5191            OUT017         NaN               Tier 2  Supermarket Type1  \n",
              "5390            OUT045         NaN               Tier 2  Supermarket Type1  \n",
              "860             OUT017         NaN               Tier 2  Supermarket Type1  \n",
              "7270            OUT046       Small               Tier 1  Supermarket Type1  \n",
              "\n",
              "[6392 rows x 7 columns]"
            ],
            "text/html": [
              "\n",
              "  <div id=\"df-064f99be-b1f1-4336-a40f-156501fbae6a\">\n",
              "    <div class=\"colab-df-container\">\n",
              "      <div>\n",
              "<style scoped>\n",
              "    .dataframe tbody tr th:only-of-type {\n",
              "        vertical-align: middle;\n",
              "    }\n",
              "\n",
              "    .dataframe tbody tr th {\n",
              "        vertical-align: top;\n",
              "    }\n",
              "\n",
              "    .dataframe thead th {\n",
              "        text-align: right;\n",
              "    }\n",
              "</style>\n",
              "<table border=\"1\" class=\"dataframe\">\n",
              "  <thead>\n",
              "    <tr style=\"text-align: right;\">\n",
              "      <th></th>\n",
              "      <th>Item_Identifier</th>\n",
              "      <th>Item_Fat_Content</th>\n",
              "      <th>Item_Type</th>\n",
              "      <th>Outlet_Identifier</th>\n",
              "      <th>Outlet_Size</th>\n",
              "      <th>Outlet_Location_Type</th>\n",
              "      <th>Outlet_Type</th>\n",
              "    </tr>\n",
              "  </thead>\n",
              "  <tbody>\n",
              "    <tr>\n",
              "      <th>4776</th>\n",
              "      <td>NCG06</td>\n",
              "      <td>Low Fat</td>\n",
              "      <td>Household</td>\n",
              "      <td>OUT018</td>\n",
              "      <td>Medium</td>\n",
              "      <td>Tier 3</td>\n",
              "      <td>Supermarket Type2</td>\n",
              "    </tr>\n",
              "    <tr>\n",
              "      <th>7510</th>\n",
              "      <td>FDV57</td>\n",
              "      <td>Regular</td>\n",
              "      <td>Snack Foods</td>\n",
              "      <td>OUT018</td>\n",
              "      <td>Medium</td>\n",
              "      <td>Tier 3</td>\n",
              "      <td>Supermarket Type2</td>\n",
              "    </tr>\n",
              "    <tr>\n",
              "      <th>5828</th>\n",
              "      <td>FDM27</td>\n",
              "      <td>Regular</td>\n",
              "      <td>Meat</td>\n",
              "      <td>OUT049</td>\n",
              "      <td>Medium</td>\n",
              "      <td>Tier 1</td>\n",
              "      <td>Supermarket Type1</td>\n",
              "    </tr>\n",
              "    <tr>\n",
              "      <th>5327</th>\n",
              "      <td>FDG24</td>\n",
              "      <td>Low Fat</td>\n",
              "      <td>Baking Goods</td>\n",
              "      <td>OUT035</td>\n",
              "      <td>Small</td>\n",
              "      <td>Tier 2</td>\n",
              "      <td>Supermarket Type1</td>\n",
              "    </tr>\n",
              "    <tr>\n",
              "      <th>4810</th>\n",
              "      <td>FDD05</td>\n",
              "      <td>Low Fat</td>\n",
              "      <td>Frozen Foods</td>\n",
              "      <td>OUT045</td>\n",
              "      <td>NaN</td>\n",
              "      <td>Tier 2</td>\n",
              "      <td>Supermarket Type1</td>\n",
              "    </tr>\n",
              "    <tr>\n",
              "      <th>...</th>\n",
              "      <td>...</td>\n",
              "      <td>...</td>\n",
              "      <td>...</td>\n",
              "      <td>...</td>\n",
              "      <td>...</td>\n",
              "      <td>...</td>\n",
              "      <td>...</td>\n",
              "    </tr>\n",
              "    <tr>\n",
              "      <th>5734</th>\n",
              "      <td>FDY08</td>\n",
              "      <td>Regular</td>\n",
              "      <td>Fruits and Vegetables</td>\n",
              "      <td>OUT010</td>\n",
              "      <td>NaN</td>\n",
              "      <td>Tier 3</td>\n",
              "      <td>Grocery Store</td>\n",
              "    </tr>\n",
              "    <tr>\n",
              "      <th>5191</th>\n",
              "      <td>FDC41</td>\n",
              "      <td>Low Fat</td>\n",
              "      <td>Frozen Foods</td>\n",
              "      <td>OUT017</td>\n",
              "      <td>NaN</td>\n",
              "      <td>Tier 2</td>\n",
              "      <td>Supermarket Type1</td>\n",
              "    </tr>\n",
              "    <tr>\n",
              "      <th>5390</th>\n",
              "      <td>NCQ53</td>\n",
              "      <td>Low Fat</td>\n",
              "      <td>Health and Hygiene</td>\n",
              "      <td>OUT045</td>\n",
              "      <td>NaN</td>\n",
              "      <td>Tier 2</td>\n",
              "      <td>Supermarket Type1</td>\n",
              "    </tr>\n",
              "    <tr>\n",
              "      <th>860</th>\n",
              "      <td>FDL46</td>\n",
              "      <td>low fat</td>\n",
              "      <td>Snack Foods</td>\n",
              "      <td>OUT017</td>\n",
              "      <td>NaN</td>\n",
              "      <td>Tier 2</td>\n",
              "      <td>Supermarket Type1</td>\n",
              "    </tr>\n",
              "    <tr>\n",
              "      <th>7270</th>\n",
              "      <td>NCN30</td>\n",
              "      <td>LF</td>\n",
              "      <td>Household</td>\n",
              "      <td>OUT046</td>\n",
              "      <td>Small</td>\n",
              "      <td>Tier 1</td>\n",
              "      <td>Supermarket Type1</td>\n",
              "    </tr>\n",
              "  </tbody>\n",
              "</table>\n",
              "<p>6392 rows × 7 columns</p>\n",
              "</div>\n",
              "      <button class=\"colab-df-convert\" onclick=\"convertToInteractive('df-064f99be-b1f1-4336-a40f-156501fbae6a')\"\n",
              "              title=\"Convert this dataframe to an interactive table.\"\n",
              "              style=\"display:none;\">\n",
              "        \n",
              "  <svg xmlns=\"http://www.w3.org/2000/svg\" height=\"24px\"viewBox=\"0 0 24 24\"\n",
              "       width=\"24px\">\n",
              "    <path d=\"M0 0h24v24H0V0z\" fill=\"none\"/>\n",
              "    <path d=\"M18.56 5.44l.94 2.06.94-2.06 2.06-.94-2.06-.94-.94-2.06-.94 2.06-2.06.94zm-11 1L8.5 8.5l.94-2.06 2.06-.94-2.06-.94L8.5 2.5l-.94 2.06-2.06.94zm10 10l.94 2.06.94-2.06 2.06-.94-2.06-.94-.94-2.06-.94 2.06-2.06.94z\"/><path d=\"M17.41 7.96l-1.37-1.37c-.4-.4-.92-.59-1.43-.59-.52 0-1.04.2-1.43.59L10.3 9.45l-7.72 7.72c-.78.78-.78 2.05 0 2.83L4 21.41c.39.39.9.59 1.41.59.51 0 1.02-.2 1.41-.59l7.78-7.78 2.81-2.81c.8-.78.8-2.07 0-2.86zM5.41 20L4 18.59l7.72-7.72 1.47 1.35L5.41 20z\"/>\n",
              "  </svg>\n",
              "      </button>\n",
              "      \n",
              "  <style>\n",
              "    .colab-df-container {\n",
              "      display:flex;\n",
              "      flex-wrap:wrap;\n",
              "      gap: 12px;\n",
              "    }\n",
              "\n",
              "    .colab-df-convert {\n",
              "      background-color: #E8F0FE;\n",
              "      border: none;\n",
              "      border-radius: 50%;\n",
              "      cursor: pointer;\n",
              "      display: none;\n",
              "      fill: #1967D2;\n",
              "      height: 32px;\n",
              "      padding: 0 0 0 0;\n",
              "      width: 32px;\n",
              "    }\n",
              "\n",
              "    .colab-df-convert:hover {\n",
              "      background-color: #E2EBFA;\n",
              "      box-shadow: 0px 1px 2px rgba(60, 64, 67, 0.3), 0px 1px 3px 1px rgba(60, 64, 67, 0.15);\n",
              "      fill: #174EA6;\n",
              "    }\n",
              "\n",
              "    [theme=dark] .colab-df-convert {\n",
              "      background-color: #3B4455;\n",
              "      fill: #D2E3FC;\n",
              "    }\n",
              "\n",
              "    [theme=dark] .colab-df-convert:hover {\n",
              "      background-color: #434B5C;\n",
              "      box-shadow: 0px 1px 3px 1px rgba(0, 0, 0, 0.15);\n",
              "      filter: drop-shadow(0px 1px 2px rgba(0, 0, 0, 0.3));\n",
              "      fill: #FFFFFF;\n",
              "    }\n",
              "  </style>\n",
              "\n",
              "      <script>\n",
              "        const buttonEl =\n",
              "          document.querySelector('#df-064f99be-b1f1-4336-a40f-156501fbae6a button.colab-df-convert');\n",
              "        buttonEl.style.display =\n",
              "          google.colab.kernel.accessAllowed ? 'block' : 'none';\n",
              "\n",
              "        async function convertToInteractive(key) {\n",
              "          const element = document.querySelector('#df-064f99be-b1f1-4336-a40f-156501fbae6a');\n",
              "          const dataTable =\n",
              "            await google.colab.kernel.invokeFunction('convertToInteractive',\n",
              "                                                     [key], {});\n",
              "          if (!dataTable) return;\n",
              "\n",
              "          const docLinkHtml = 'Like what you see? Visit the ' +\n",
              "            '<a target=\"_blank\" href=https://colab.research.google.com/notebooks/data_table.ipynb>data table notebook</a>'\n",
              "            + ' to learn more about interactive tables.';\n",
              "          element.innerHTML = '';\n",
              "          dataTable['output_type'] = 'display_data';\n",
              "          await google.colab.output.renderOutput(dataTable, element);\n",
              "          const docLink = document.createElement('div');\n",
              "          docLink.innerHTML = docLinkHtml;\n",
              "          element.appendChild(docLink);\n",
              "        }\n",
              "      </script>\n",
              "    </div>\n",
              "  </div>\n",
              "  "
            ]
          },
          "metadata": {},
          "execution_count": 34
        }
      ]
    },
    {
      "cell_type": "code",
      "source": [
        "ohe_encoder = OneHotEncoder(sparse=False, handle_unknown='ignore')\n",
        "ohe_encoder.fit(train_cat_data)\n",
        "train_ohe = ohe_encoder.transform(train_cat_data)\n",
        "test_ohe = ohe_encoder.transform(test_cat_data)\n",
        "train_ohe"
      ],
      "metadata": {
        "colab": {
          "base_uri": "https://localhost:8080/"
        },
        "id": "5yqiBzx45A8I",
        "outputId": "839ee2e1-f589-4043-97b0-d81f779674e1"
      },
      "execution_count": 35,
      "outputs": [
        {
          "output_type": "execute_result",
          "data": {
            "text/plain": [
              "array([[0., 0., 0., ..., 0., 1., 0.],\n",
              "       [0., 0., 0., ..., 0., 1., 0.],\n",
              "       [0., 0., 0., ..., 1., 0., 0.],\n",
              "       ...,\n",
              "       [0., 0., 0., ..., 1., 0., 0.],\n",
              "       [0., 0., 0., ..., 1., 0., 0.],\n",
              "       [0., 0., 0., ..., 1., 0., 0.]])"
            ]
          },
          "metadata": {},
          "execution_count": 35
        }
      ]
    },
    {
      "cell_type": "code",
      "source": [
        "#imputers\n",
        "freq_imputer = SimpleImputer(strategy='most_frequent')\n",
        "mean_imputer = SimpleImputer(strategy='mean')\n",
        "#scaler\n",
        "scaler = StandardScaler()\n",
        "#one Hot Encoder\n",
        "ohe = OneHotEncoder(handle_unknown='ignore', sparse=False)"
      ],
      "metadata": {
        "id": "zhV4CBJNhInA"
      },
      "execution_count": 36,
      "outputs": []
    },
    {
      "cell_type": "code",
      "source": [
        "#Numeric Pipeline\n",
        "numeric_pipe = make_pipeline(mean_imputer,scaler )\n",
        "numeric_pipe"
      ],
      "metadata": {
        "colab": {
          "base_uri": "https://localhost:8080/",
          "height": 126
        },
        "id": "pbqm0GckiIqS",
        "outputId": "cd77b4e9-0127-4b41-9d95-19937572cf22"
      },
      "execution_count": 37,
      "outputs": [
        {
          "output_type": "execute_result",
          "data": {
            "text/plain": [
              "Pipeline(steps=[('simpleimputer', SimpleImputer()),\n",
              "                ('standardscaler', StandardScaler())])"
            ],
            "text/html": [
              "<style>#sk-062da8d6-7c56-42cd-ae46-ca6c3a66ee8d {color: black;background-color: white;}#sk-062da8d6-7c56-42cd-ae46-ca6c3a66ee8d pre{padding: 0;}#sk-062da8d6-7c56-42cd-ae46-ca6c3a66ee8d div.sk-toggleable {background-color: white;}#sk-062da8d6-7c56-42cd-ae46-ca6c3a66ee8d label.sk-toggleable__label {cursor: pointer;display: block;width: 100%;margin-bottom: 0;padding: 0.3em;box-sizing: border-box;text-align: center;}#sk-062da8d6-7c56-42cd-ae46-ca6c3a66ee8d label.sk-toggleable__label-arrow:before {content: \"▸\";float: left;margin-right: 0.25em;color: #696969;}#sk-062da8d6-7c56-42cd-ae46-ca6c3a66ee8d label.sk-toggleable__label-arrow:hover:before {color: black;}#sk-062da8d6-7c56-42cd-ae46-ca6c3a66ee8d div.sk-estimator:hover label.sk-toggleable__label-arrow:before {color: black;}#sk-062da8d6-7c56-42cd-ae46-ca6c3a66ee8d div.sk-toggleable__content {max-height: 0;max-width: 0;overflow: hidden;text-align: left;background-color: #f0f8ff;}#sk-062da8d6-7c56-42cd-ae46-ca6c3a66ee8d div.sk-toggleable__content pre {margin: 0.2em;color: black;border-radius: 0.25em;background-color: #f0f8ff;}#sk-062da8d6-7c56-42cd-ae46-ca6c3a66ee8d input.sk-toggleable__control:checked~div.sk-toggleable__content {max-height: 200px;max-width: 100%;overflow: auto;}#sk-062da8d6-7c56-42cd-ae46-ca6c3a66ee8d input.sk-toggleable__control:checked~label.sk-toggleable__label-arrow:before {content: \"▾\";}#sk-062da8d6-7c56-42cd-ae46-ca6c3a66ee8d div.sk-estimator input.sk-toggleable__control:checked~label.sk-toggleable__label {background-color: #d4ebff;}#sk-062da8d6-7c56-42cd-ae46-ca6c3a66ee8d div.sk-label input.sk-toggleable__control:checked~label.sk-toggleable__label {background-color: #d4ebff;}#sk-062da8d6-7c56-42cd-ae46-ca6c3a66ee8d input.sk-hidden--visually {border: 0;clip: rect(1px 1px 1px 1px);clip: rect(1px, 1px, 1px, 1px);height: 1px;margin: -1px;overflow: hidden;padding: 0;position: absolute;width: 1px;}#sk-062da8d6-7c56-42cd-ae46-ca6c3a66ee8d div.sk-estimator {font-family: monospace;background-color: #f0f8ff;border: 1px dotted black;border-radius: 0.25em;box-sizing: border-box;margin-bottom: 0.5em;}#sk-062da8d6-7c56-42cd-ae46-ca6c3a66ee8d div.sk-estimator:hover {background-color: #d4ebff;}#sk-062da8d6-7c56-42cd-ae46-ca6c3a66ee8d div.sk-parallel-item::after {content: \"\";width: 100%;border-bottom: 1px solid gray;flex-grow: 1;}#sk-062da8d6-7c56-42cd-ae46-ca6c3a66ee8d div.sk-label:hover label.sk-toggleable__label {background-color: #d4ebff;}#sk-062da8d6-7c56-42cd-ae46-ca6c3a66ee8d div.sk-serial::before {content: \"\";position: absolute;border-left: 1px solid gray;box-sizing: border-box;top: 2em;bottom: 0;left: 50%;}#sk-062da8d6-7c56-42cd-ae46-ca6c3a66ee8d div.sk-serial {display: flex;flex-direction: column;align-items: center;background-color: white;padding-right: 0.2em;padding-left: 0.2em;}#sk-062da8d6-7c56-42cd-ae46-ca6c3a66ee8d div.sk-item {z-index: 1;}#sk-062da8d6-7c56-42cd-ae46-ca6c3a66ee8d div.sk-parallel {display: flex;align-items: stretch;justify-content: center;background-color: white;}#sk-062da8d6-7c56-42cd-ae46-ca6c3a66ee8d div.sk-parallel::before {content: \"\";position: absolute;border-left: 1px solid gray;box-sizing: border-box;top: 2em;bottom: 0;left: 50%;}#sk-062da8d6-7c56-42cd-ae46-ca6c3a66ee8d div.sk-parallel-item {display: flex;flex-direction: column;position: relative;background-color: white;}#sk-062da8d6-7c56-42cd-ae46-ca6c3a66ee8d div.sk-parallel-item:first-child::after {align-self: flex-end;width: 50%;}#sk-062da8d6-7c56-42cd-ae46-ca6c3a66ee8d div.sk-parallel-item:last-child::after {align-self: flex-start;width: 50%;}#sk-062da8d6-7c56-42cd-ae46-ca6c3a66ee8d div.sk-parallel-item:only-child::after {width: 0;}#sk-062da8d6-7c56-42cd-ae46-ca6c3a66ee8d div.sk-dashed-wrapped {border: 1px dashed gray;margin: 0 0.4em 0.5em 0.4em;box-sizing: border-box;padding-bottom: 0.4em;background-color: white;position: relative;}#sk-062da8d6-7c56-42cd-ae46-ca6c3a66ee8d div.sk-label label {font-family: monospace;font-weight: bold;background-color: white;display: inline-block;line-height: 1.2em;}#sk-062da8d6-7c56-42cd-ae46-ca6c3a66ee8d div.sk-label-container {position: relative;z-index: 2;text-align: center;}#sk-062da8d6-7c56-42cd-ae46-ca6c3a66ee8d div.sk-container {/* jupyter's `normalize.less` sets `[hidden] { display: none; }` but bootstrap.min.css set `[hidden] { display: none !important; }` so we also need the `!important` here to be able to override the default hidden behavior on the sphinx rendered scikit-learn.org. See: https://github.com/scikit-learn/scikit-learn/issues/21755 */display: inline-block !important;position: relative;}#sk-062da8d6-7c56-42cd-ae46-ca6c3a66ee8d div.sk-text-repr-fallback {display: none;}</style><div id=\"sk-062da8d6-7c56-42cd-ae46-ca6c3a66ee8d\" class=\"sk-top-container\"><div class=\"sk-text-repr-fallback\"><pre>Pipeline(steps=[(&#x27;simpleimputer&#x27;, SimpleImputer()),\n",
              "                (&#x27;standardscaler&#x27;, StandardScaler())])</pre><b>Please rerun this cell to show the HTML repr or trust the notebook.</b></div><div class=\"sk-container\" hidden><div class=\"sk-item sk-dashed-wrapped\"><div class=\"sk-label-container\"><div class=\"sk-label sk-toggleable\"><input class=\"sk-toggleable__control sk-hidden--visually\" id=\"a504034d-98fd-4824-85c1-302ace41a860\" type=\"checkbox\" ><label for=\"a504034d-98fd-4824-85c1-302ace41a860\" class=\"sk-toggleable__label sk-toggleable__label-arrow\">Pipeline</label><div class=\"sk-toggleable__content\"><pre>Pipeline(steps=[(&#x27;simpleimputer&#x27;, SimpleImputer()),\n",
              "                (&#x27;standardscaler&#x27;, StandardScaler())])</pre></div></div></div><div class=\"sk-serial\"><div class=\"sk-item\"><div class=\"sk-estimator sk-toggleable\"><input class=\"sk-toggleable__control sk-hidden--visually\" id=\"c920f141-90f6-4c54-938f-9577e35c56c4\" type=\"checkbox\" ><label for=\"c920f141-90f6-4c54-938f-9577e35c56c4\" class=\"sk-toggleable__label sk-toggleable__label-arrow\">SimpleImputer</label><div class=\"sk-toggleable__content\"><pre>SimpleImputer()</pre></div></div></div><div class=\"sk-item\"><div class=\"sk-estimator sk-toggleable\"><input class=\"sk-toggleable__control sk-hidden--visually\" id=\"40de1bb6-a42b-43cd-b7e1-6b25549d80ad\" type=\"checkbox\" ><label for=\"40de1bb6-a42b-43cd-b7e1-6b25549d80ad\" class=\"sk-toggleable__label sk-toggleable__label-arrow\">StandardScaler</label><div class=\"sk-toggleable__content\"><pre>StandardScaler()</pre></div></div></div></div></div></div></div>"
            ]
          },
          "metadata": {},
          "execution_count": 37
        }
      ]
    },
    {
      "cell_type": "code",
      "source": [
        "#categorical pipleline\n",
        "categorical_pipe = make_pipeline(freq_imputer, ohe)\n",
        "categorical_pipe"
      ],
      "metadata": {
        "colab": {
          "base_uri": "https://localhost:8080/",
          "height": 126
        },
        "id": "_k3v1jSDi4m7",
        "outputId": "a5aec78d-d590-4d4c-b01b-03c34e381e49"
      },
      "execution_count": 38,
      "outputs": [
        {
          "output_type": "execute_result",
          "data": {
            "text/plain": [
              "Pipeline(steps=[('simpleimputer', SimpleImputer(strategy='most_frequent')),\n",
              "                ('onehotencoder',\n",
              "                 OneHotEncoder(handle_unknown='ignore', sparse=False))])"
            ],
            "text/html": [
              "<style>#sk-8d0e27d4-ec74-4ff9-872a-f7ca2fdd7bee {color: black;background-color: white;}#sk-8d0e27d4-ec74-4ff9-872a-f7ca2fdd7bee pre{padding: 0;}#sk-8d0e27d4-ec74-4ff9-872a-f7ca2fdd7bee div.sk-toggleable {background-color: white;}#sk-8d0e27d4-ec74-4ff9-872a-f7ca2fdd7bee label.sk-toggleable__label {cursor: pointer;display: block;width: 100%;margin-bottom: 0;padding: 0.3em;box-sizing: border-box;text-align: center;}#sk-8d0e27d4-ec74-4ff9-872a-f7ca2fdd7bee label.sk-toggleable__label-arrow:before {content: \"▸\";float: left;margin-right: 0.25em;color: #696969;}#sk-8d0e27d4-ec74-4ff9-872a-f7ca2fdd7bee label.sk-toggleable__label-arrow:hover:before {color: black;}#sk-8d0e27d4-ec74-4ff9-872a-f7ca2fdd7bee div.sk-estimator:hover label.sk-toggleable__label-arrow:before {color: black;}#sk-8d0e27d4-ec74-4ff9-872a-f7ca2fdd7bee div.sk-toggleable__content {max-height: 0;max-width: 0;overflow: hidden;text-align: left;background-color: #f0f8ff;}#sk-8d0e27d4-ec74-4ff9-872a-f7ca2fdd7bee div.sk-toggleable__content pre {margin: 0.2em;color: black;border-radius: 0.25em;background-color: #f0f8ff;}#sk-8d0e27d4-ec74-4ff9-872a-f7ca2fdd7bee input.sk-toggleable__control:checked~div.sk-toggleable__content {max-height: 200px;max-width: 100%;overflow: auto;}#sk-8d0e27d4-ec74-4ff9-872a-f7ca2fdd7bee input.sk-toggleable__control:checked~label.sk-toggleable__label-arrow:before {content: \"▾\";}#sk-8d0e27d4-ec74-4ff9-872a-f7ca2fdd7bee div.sk-estimator input.sk-toggleable__control:checked~label.sk-toggleable__label {background-color: #d4ebff;}#sk-8d0e27d4-ec74-4ff9-872a-f7ca2fdd7bee div.sk-label input.sk-toggleable__control:checked~label.sk-toggleable__label {background-color: #d4ebff;}#sk-8d0e27d4-ec74-4ff9-872a-f7ca2fdd7bee input.sk-hidden--visually {border: 0;clip: rect(1px 1px 1px 1px);clip: rect(1px, 1px, 1px, 1px);height: 1px;margin: -1px;overflow: hidden;padding: 0;position: absolute;width: 1px;}#sk-8d0e27d4-ec74-4ff9-872a-f7ca2fdd7bee div.sk-estimator {font-family: monospace;background-color: #f0f8ff;border: 1px dotted black;border-radius: 0.25em;box-sizing: border-box;margin-bottom: 0.5em;}#sk-8d0e27d4-ec74-4ff9-872a-f7ca2fdd7bee div.sk-estimator:hover {background-color: #d4ebff;}#sk-8d0e27d4-ec74-4ff9-872a-f7ca2fdd7bee div.sk-parallel-item::after {content: \"\";width: 100%;border-bottom: 1px solid gray;flex-grow: 1;}#sk-8d0e27d4-ec74-4ff9-872a-f7ca2fdd7bee div.sk-label:hover label.sk-toggleable__label {background-color: #d4ebff;}#sk-8d0e27d4-ec74-4ff9-872a-f7ca2fdd7bee div.sk-serial::before {content: \"\";position: absolute;border-left: 1px solid gray;box-sizing: border-box;top: 2em;bottom: 0;left: 50%;}#sk-8d0e27d4-ec74-4ff9-872a-f7ca2fdd7bee div.sk-serial {display: flex;flex-direction: column;align-items: center;background-color: white;padding-right: 0.2em;padding-left: 0.2em;}#sk-8d0e27d4-ec74-4ff9-872a-f7ca2fdd7bee div.sk-item {z-index: 1;}#sk-8d0e27d4-ec74-4ff9-872a-f7ca2fdd7bee div.sk-parallel {display: flex;align-items: stretch;justify-content: center;background-color: white;}#sk-8d0e27d4-ec74-4ff9-872a-f7ca2fdd7bee div.sk-parallel::before {content: \"\";position: absolute;border-left: 1px solid gray;box-sizing: border-box;top: 2em;bottom: 0;left: 50%;}#sk-8d0e27d4-ec74-4ff9-872a-f7ca2fdd7bee div.sk-parallel-item {display: flex;flex-direction: column;position: relative;background-color: white;}#sk-8d0e27d4-ec74-4ff9-872a-f7ca2fdd7bee div.sk-parallel-item:first-child::after {align-self: flex-end;width: 50%;}#sk-8d0e27d4-ec74-4ff9-872a-f7ca2fdd7bee div.sk-parallel-item:last-child::after {align-self: flex-start;width: 50%;}#sk-8d0e27d4-ec74-4ff9-872a-f7ca2fdd7bee div.sk-parallel-item:only-child::after {width: 0;}#sk-8d0e27d4-ec74-4ff9-872a-f7ca2fdd7bee div.sk-dashed-wrapped {border: 1px dashed gray;margin: 0 0.4em 0.5em 0.4em;box-sizing: border-box;padding-bottom: 0.4em;background-color: white;position: relative;}#sk-8d0e27d4-ec74-4ff9-872a-f7ca2fdd7bee div.sk-label label {font-family: monospace;font-weight: bold;background-color: white;display: inline-block;line-height: 1.2em;}#sk-8d0e27d4-ec74-4ff9-872a-f7ca2fdd7bee div.sk-label-container {position: relative;z-index: 2;text-align: center;}#sk-8d0e27d4-ec74-4ff9-872a-f7ca2fdd7bee div.sk-container {/* jupyter's `normalize.less` sets `[hidden] { display: none; }` but bootstrap.min.css set `[hidden] { display: none !important; }` so we also need the `!important` here to be able to override the default hidden behavior on the sphinx rendered scikit-learn.org. See: https://github.com/scikit-learn/scikit-learn/issues/21755 */display: inline-block !important;position: relative;}#sk-8d0e27d4-ec74-4ff9-872a-f7ca2fdd7bee div.sk-text-repr-fallback {display: none;}</style><div id=\"sk-8d0e27d4-ec74-4ff9-872a-f7ca2fdd7bee\" class=\"sk-top-container\"><div class=\"sk-text-repr-fallback\"><pre>Pipeline(steps=[(&#x27;simpleimputer&#x27;, SimpleImputer(strategy=&#x27;most_frequent&#x27;)),\n",
              "                (&#x27;onehotencoder&#x27;,\n",
              "                 OneHotEncoder(handle_unknown=&#x27;ignore&#x27;, sparse=False))])</pre><b>Please rerun this cell to show the HTML repr or trust the notebook.</b></div><div class=\"sk-container\" hidden><div class=\"sk-item sk-dashed-wrapped\"><div class=\"sk-label-container\"><div class=\"sk-label sk-toggleable\"><input class=\"sk-toggleable__control sk-hidden--visually\" id=\"5a746fbc-daf7-4651-a000-7df31e91aa39\" type=\"checkbox\" ><label for=\"5a746fbc-daf7-4651-a000-7df31e91aa39\" class=\"sk-toggleable__label sk-toggleable__label-arrow\">Pipeline</label><div class=\"sk-toggleable__content\"><pre>Pipeline(steps=[(&#x27;simpleimputer&#x27;, SimpleImputer(strategy=&#x27;most_frequent&#x27;)),\n",
              "                (&#x27;onehotencoder&#x27;,\n",
              "                 OneHotEncoder(handle_unknown=&#x27;ignore&#x27;, sparse=False))])</pre></div></div></div><div class=\"sk-serial\"><div class=\"sk-item\"><div class=\"sk-estimator sk-toggleable\"><input class=\"sk-toggleable__control sk-hidden--visually\" id=\"11567fbd-2506-44eb-804c-9a433fd46d36\" type=\"checkbox\" ><label for=\"11567fbd-2506-44eb-804c-9a433fd46d36\" class=\"sk-toggleable__label sk-toggleable__label-arrow\">SimpleImputer</label><div class=\"sk-toggleable__content\"><pre>SimpleImputer(strategy=&#x27;most_frequent&#x27;)</pre></div></div></div><div class=\"sk-item\"><div class=\"sk-estimator sk-toggleable\"><input class=\"sk-toggleable__control sk-hidden--visually\" id=\"519ae72f-fb47-4d32-91b8-cf1d0e360613\" type=\"checkbox\" ><label for=\"519ae72f-fb47-4d32-91b8-cf1d0e360613\" class=\"sk-toggleable__label sk-toggleable__label-arrow\">OneHotEncoder</label><div class=\"sk-toggleable__content\"><pre>OneHotEncoder(handle_unknown=&#x27;ignore&#x27;, sparse=False)</pre></div></div></div></div></div></div></div>"
            ]
          },
          "metadata": {},
          "execution_count": 38
        }
      ]
    },
    {
      "cell_type": "code",
      "source": [
        "#Tuples for column transfer\n",
        "number_tuple = (numeric_pipe, num_selector)\n",
        "category_tuple =(categorical_pipe, cat_selector)\n",
        "#column transfer\n",
        "preprocessor = make_column_transformer(number_tuple, category_tuple, remainder='passthrough')\n",
        "preprocessor\n"
      ],
      "metadata": {
        "colab": {
          "base_uri": "https://localhost:8080/",
          "height": 152
        },
        "id": "KZlMdGFsjOxV",
        "outputId": "6968c3bf-11e3-4cfd-8951-7b694d11ee5c"
      },
      "execution_count": 39,
      "outputs": [
        {
          "output_type": "execute_result",
          "data": {
            "text/plain": [
              "ColumnTransformer(remainder='passthrough',\n",
              "                  transformers=[('pipeline-1',\n",
              "                                 Pipeline(steps=[('simpleimputer',\n",
              "                                                  SimpleImputer()),\n",
              "                                                 ('standardscaler',\n",
              "                                                  StandardScaler())]),\n",
              "                                 <sklearn.compose._column_transformer.make_column_selector object at 0x7f10ae6b7a50>),\n",
              "                                ('pipeline-2',\n",
              "                                 Pipeline(steps=[('simpleimputer',\n",
              "                                                  SimpleImputer(strategy='most_frequent')),\n",
              "                                                 ('onehotencoder',\n",
              "                                                  OneHotEncoder(handle_unknown='ignore',\n",
              "                                                                sparse=False))]),\n",
              "                                 <sklearn.compose._column_transformer.make_column_selector object at 0x7f10ae6b7a90>)])"
            ],
            "text/html": [
              "<style>#sk-2b84a024-617e-4a1d-bab7-1ea98c5c0806 {color: black;background-color: white;}#sk-2b84a024-617e-4a1d-bab7-1ea98c5c0806 pre{padding: 0;}#sk-2b84a024-617e-4a1d-bab7-1ea98c5c0806 div.sk-toggleable {background-color: white;}#sk-2b84a024-617e-4a1d-bab7-1ea98c5c0806 label.sk-toggleable__label {cursor: pointer;display: block;width: 100%;margin-bottom: 0;padding: 0.3em;box-sizing: border-box;text-align: center;}#sk-2b84a024-617e-4a1d-bab7-1ea98c5c0806 label.sk-toggleable__label-arrow:before {content: \"▸\";float: left;margin-right: 0.25em;color: #696969;}#sk-2b84a024-617e-4a1d-bab7-1ea98c5c0806 label.sk-toggleable__label-arrow:hover:before {color: black;}#sk-2b84a024-617e-4a1d-bab7-1ea98c5c0806 div.sk-estimator:hover label.sk-toggleable__label-arrow:before {color: black;}#sk-2b84a024-617e-4a1d-bab7-1ea98c5c0806 div.sk-toggleable__content {max-height: 0;max-width: 0;overflow: hidden;text-align: left;background-color: #f0f8ff;}#sk-2b84a024-617e-4a1d-bab7-1ea98c5c0806 div.sk-toggleable__content pre {margin: 0.2em;color: black;border-radius: 0.25em;background-color: #f0f8ff;}#sk-2b84a024-617e-4a1d-bab7-1ea98c5c0806 input.sk-toggleable__control:checked~div.sk-toggleable__content {max-height: 200px;max-width: 100%;overflow: auto;}#sk-2b84a024-617e-4a1d-bab7-1ea98c5c0806 input.sk-toggleable__control:checked~label.sk-toggleable__label-arrow:before {content: \"▾\";}#sk-2b84a024-617e-4a1d-bab7-1ea98c5c0806 div.sk-estimator input.sk-toggleable__control:checked~label.sk-toggleable__label {background-color: #d4ebff;}#sk-2b84a024-617e-4a1d-bab7-1ea98c5c0806 div.sk-label input.sk-toggleable__control:checked~label.sk-toggleable__label {background-color: #d4ebff;}#sk-2b84a024-617e-4a1d-bab7-1ea98c5c0806 input.sk-hidden--visually {border: 0;clip: rect(1px 1px 1px 1px);clip: rect(1px, 1px, 1px, 1px);height: 1px;margin: -1px;overflow: hidden;padding: 0;position: absolute;width: 1px;}#sk-2b84a024-617e-4a1d-bab7-1ea98c5c0806 div.sk-estimator {font-family: monospace;background-color: #f0f8ff;border: 1px dotted black;border-radius: 0.25em;box-sizing: border-box;margin-bottom: 0.5em;}#sk-2b84a024-617e-4a1d-bab7-1ea98c5c0806 div.sk-estimator:hover {background-color: #d4ebff;}#sk-2b84a024-617e-4a1d-bab7-1ea98c5c0806 div.sk-parallel-item::after {content: \"\";width: 100%;border-bottom: 1px solid gray;flex-grow: 1;}#sk-2b84a024-617e-4a1d-bab7-1ea98c5c0806 div.sk-label:hover label.sk-toggleable__label {background-color: #d4ebff;}#sk-2b84a024-617e-4a1d-bab7-1ea98c5c0806 div.sk-serial::before {content: \"\";position: absolute;border-left: 1px solid gray;box-sizing: border-box;top: 2em;bottom: 0;left: 50%;}#sk-2b84a024-617e-4a1d-bab7-1ea98c5c0806 div.sk-serial {display: flex;flex-direction: column;align-items: center;background-color: white;padding-right: 0.2em;padding-left: 0.2em;}#sk-2b84a024-617e-4a1d-bab7-1ea98c5c0806 div.sk-item {z-index: 1;}#sk-2b84a024-617e-4a1d-bab7-1ea98c5c0806 div.sk-parallel {display: flex;align-items: stretch;justify-content: center;background-color: white;}#sk-2b84a024-617e-4a1d-bab7-1ea98c5c0806 div.sk-parallel::before {content: \"\";position: absolute;border-left: 1px solid gray;box-sizing: border-box;top: 2em;bottom: 0;left: 50%;}#sk-2b84a024-617e-4a1d-bab7-1ea98c5c0806 div.sk-parallel-item {display: flex;flex-direction: column;position: relative;background-color: white;}#sk-2b84a024-617e-4a1d-bab7-1ea98c5c0806 div.sk-parallel-item:first-child::after {align-self: flex-end;width: 50%;}#sk-2b84a024-617e-4a1d-bab7-1ea98c5c0806 div.sk-parallel-item:last-child::after {align-self: flex-start;width: 50%;}#sk-2b84a024-617e-4a1d-bab7-1ea98c5c0806 div.sk-parallel-item:only-child::after {width: 0;}#sk-2b84a024-617e-4a1d-bab7-1ea98c5c0806 div.sk-dashed-wrapped {border: 1px dashed gray;margin: 0 0.4em 0.5em 0.4em;box-sizing: border-box;padding-bottom: 0.4em;background-color: white;position: relative;}#sk-2b84a024-617e-4a1d-bab7-1ea98c5c0806 div.sk-label label {font-family: monospace;font-weight: bold;background-color: white;display: inline-block;line-height: 1.2em;}#sk-2b84a024-617e-4a1d-bab7-1ea98c5c0806 div.sk-label-container {position: relative;z-index: 2;text-align: center;}#sk-2b84a024-617e-4a1d-bab7-1ea98c5c0806 div.sk-container {/* jupyter's `normalize.less` sets `[hidden] { display: none; }` but bootstrap.min.css set `[hidden] { display: none !important; }` so we also need the `!important` here to be able to override the default hidden behavior on the sphinx rendered scikit-learn.org. See: https://github.com/scikit-learn/scikit-learn/issues/21755 */display: inline-block !important;position: relative;}#sk-2b84a024-617e-4a1d-bab7-1ea98c5c0806 div.sk-text-repr-fallback {display: none;}</style><div id=\"sk-2b84a024-617e-4a1d-bab7-1ea98c5c0806\" class=\"sk-top-container\"><div class=\"sk-text-repr-fallback\"><pre>ColumnTransformer(remainder=&#x27;passthrough&#x27;,\n",
              "                  transformers=[(&#x27;pipeline-1&#x27;,\n",
              "                                 Pipeline(steps=[(&#x27;simpleimputer&#x27;,\n",
              "                                                  SimpleImputer()),\n",
              "                                                 (&#x27;standardscaler&#x27;,\n",
              "                                                  StandardScaler())]),\n",
              "                                 &lt;sklearn.compose._column_transformer.make_column_selector object at 0x7f10ae6b7a50&gt;),\n",
              "                                (&#x27;pipeline-2&#x27;,\n",
              "                                 Pipeline(steps=[(&#x27;simpleimputer&#x27;,\n",
              "                                                  SimpleImputer(strategy=&#x27;most_frequent&#x27;)),\n",
              "                                                 (&#x27;onehotencoder&#x27;,\n",
              "                                                  OneHotEncoder(handle_unknown=&#x27;ignore&#x27;,\n",
              "                                                                sparse=False))]),\n",
              "                                 &lt;sklearn.compose._column_transformer.make_column_selector object at 0x7f10ae6b7a90&gt;)])</pre><b>Please rerun this cell to show the HTML repr or trust the notebook.</b></div><div class=\"sk-container\" hidden><div class=\"sk-item sk-dashed-wrapped\"><div class=\"sk-label-container\"><div class=\"sk-label sk-toggleable\"><input class=\"sk-toggleable__control sk-hidden--visually\" id=\"9f8cc90a-ec44-4d6a-ba08-b102f995b1e9\" type=\"checkbox\" ><label for=\"9f8cc90a-ec44-4d6a-ba08-b102f995b1e9\" class=\"sk-toggleable__label sk-toggleable__label-arrow\">ColumnTransformer</label><div class=\"sk-toggleable__content\"><pre>ColumnTransformer(remainder=&#x27;passthrough&#x27;,\n",
              "                  transformers=[(&#x27;pipeline-1&#x27;,\n",
              "                                 Pipeline(steps=[(&#x27;simpleimputer&#x27;,\n",
              "                                                  SimpleImputer()),\n",
              "                                                 (&#x27;standardscaler&#x27;,\n",
              "                                                  StandardScaler())]),\n",
              "                                 &lt;sklearn.compose._column_transformer.make_column_selector object at 0x7f10ae6b7a50&gt;),\n",
              "                                (&#x27;pipeline-2&#x27;,\n",
              "                                 Pipeline(steps=[(&#x27;simpleimputer&#x27;,\n",
              "                                                  SimpleImputer(strategy=&#x27;most_frequent&#x27;)),\n",
              "                                                 (&#x27;onehotencoder&#x27;,\n",
              "                                                  OneHotEncoder(handle_unknown=&#x27;ignore&#x27;,\n",
              "                                                                sparse=False))]),\n",
              "                                 &lt;sklearn.compose._column_transformer.make_column_selector object at 0x7f10ae6b7a90&gt;)])</pre></div></div></div><div class=\"sk-parallel\"><div class=\"sk-parallel-item\"><div class=\"sk-item\"><div class=\"sk-label-container\"><div class=\"sk-label sk-toggleable\"><input class=\"sk-toggleable__control sk-hidden--visually\" id=\"6eb8d551-d6ad-4457-b9d1-eb1ad4d50f06\" type=\"checkbox\" ><label for=\"6eb8d551-d6ad-4457-b9d1-eb1ad4d50f06\" class=\"sk-toggleable__label sk-toggleable__label-arrow\">pipeline-1</label><div class=\"sk-toggleable__content\"><pre>&lt;sklearn.compose._column_transformer.make_column_selector object at 0x7f10ae6b7a50&gt;</pre></div></div></div><div class=\"sk-serial\"><div class=\"sk-item\"><div class=\"sk-serial\"><div class=\"sk-item\"><div class=\"sk-estimator sk-toggleable\"><input class=\"sk-toggleable__control sk-hidden--visually\" id=\"254d3b61-f147-4410-b05b-43fe4562607d\" type=\"checkbox\" ><label for=\"254d3b61-f147-4410-b05b-43fe4562607d\" class=\"sk-toggleable__label sk-toggleable__label-arrow\">SimpleImputer</label><div class=\"sk-toggleable__content\"><pre>SimpleImputer()</pre></div></div></div><div class=\"sk-item\"><div class=\"sk-estimator sk-toggleable\"><input class=\"sk-toggleable__control sk-hidden--visually\" id=\"8aac261e-cccc-43c9-857d-1230a93d8651\" type=\"checkbox\" ><label for=\"8aac261e-cccc-43c9-857d-1230a93d8651\" class=\"sk-toggleable__label sk-toggleable__label-arrow\">StandardScaler</label><div class=\"sk-toggleable__content\"><pre>StandardScaler()</pre></div></div></div></div></div></div></div></div><div class=\"sk-parallel-item\"><div class=\"sk-item\"><div class=\"sk-label-container\"><div class=\"sk-label sk-toggleable\"><input class=\"sk-toggleable__control sk-hidden--visually\" id=\"68529842-c7d8-47da-8704-9d4a07cd281a\" type=\"checkbox\" ><label for=\"68529842-c7d8-47da-8704-9d4a07cd281a\" class=\"sk-toggleable__label sk-toggleable__label-arrow\">pipeline-2</label><div class=\"sk-toggleable__content\"><pre>&lt;sklearn.compose._column_transformer.make_column_selector object at 0x7f10ae6b7a90&gt;</pre></div></div></div><div class=\"sk-serial\"><div class=\"sk-item\"><div class=\"sk-serial\"><div class=\"sk-item\"><div class=\"sk-estimator sk-toggleable\"><input class=\"sk-toggleable__control sk-hidden--visually\" id=\"f43f97b9-b578-445a-8941-d4f62d2a439a\" type=\"checkbox\" ><label for=\"f43f97b9-b578-445a-8941-d4f62d2a439a\" class=\"sk-toggleable__label sk-toggleable__label-arrow\">SimpleImputer</label><div class=\"sk-toggleable__content\"><pre>SimpleImputer(strategy=&#x27;most_frequent&#x27;)</pre></div></div></div><div class=\"sk-item\"><div class=\"sk-estimator sk-toggleable\"><input class=\"sk-toggleable__control sk-hidden--visually\" id=\"af130dcf-3dae-461e-9870-04a190d4e860\" type=\"checkbox\" ><label for=\"af130dcf-3dae-461e-9870-04a190d4e860\" class=\"sk-toggleable__label sk-toggleable__label-arrow\">OneHotEncoder</label><div class=\"sk-toggleable__content\"><pre>OneHotEncoder(handle_unknown=&#x27;ignore&#x27;, sparse=False)</pre></div></div></div></div></div></div></div></div><div class=\"sk-parallel-item\"><div class=\"sk-item\"><div class=\"sk-label-container\"><div class=\"sk-label sk-toggleable\"><input class=\"sk-toggleable__control sk-hidden--visually\" id=\"d17438f6-96e2-4ff0-9a80-2ab04b0b9909\" type=\"checkbox\" ><label for=\"d17438f6-96e2-4ff0-9a80-2ab04b0b9909\" class=\"sk-toggleable__label sk-toggleable__label-arrow\">remainder</label><div class=\"sk-toggleable__content\"><pre></pre></div></div></div><div class=\"sk-serial\"><div class=\"sk-item\"><div class=\"sk-estimator sk-toggleable\"><input class=\"sk-toggleable__control sk-hidden--visually\" id=\"391afebd-25c0-493b-b824-73f1147e1b54\" type=\"checkbox\" ><label for=\"391afebd-25c0-493b-b824-73f1147e1b54\" class=\"sk-toggleable__label sk-toggleable__label-arrow\">passthrough</label><div class=\"sk-toggleable__content\"><pre>passthrough</pre></div></div></div></div></div></div></div></div></div></div>"
            ]
          },
          "metadata": {},
          "execution_count": 39
        }
      ]
    },
    {
      "cell_type": "code",
      "source": [
        "#fit on train\n",
        "preprocessor.fit(X_train)\n",
        "\n"
      ],
      "metadata": {
        "colab": {
          "base_uri": "https://localhost:8080/",
          "height": 152
        },
        "id": "32cEYHyej4fB",
        "outputId": "feea2e92-6d7b-4a5b-a435-059fa2913243"
      },
      "execution_count": 40,
      "outputs": [
        {
          "output_type": "execute_result",
          "data": {
            "text/plain": [
              "ColumnTransformer(remainder='passthrough',\n",
              "                  transformers=[('pipeline-1',\n",
              "                                 Pipeline(steps=[('simpleimputer',\n",
              "                                                  SimpleImputer()),\n",
              "                                                 ('standardscaler',\n",
              "                                                  StandardScaler())]),\n",
              "                                 <sklearn.compose._column_transformer.make_column_selector object at 0x7f10ae6b7a50>),\n",
              "                                ('pipeline-2',\n",
              "                                 Pipeline(steps=[('simpleimputer',\n",
              "                                                  SimpleImputer(strategy='most_frequent')),\n",
              "                                                 ('onehotencoder',\n",
              "                                                  OneHotEncoder(handle_unknown='ignore',\n",
              "                                                                sparse=False))]),\n",
              "                                 <sklearn.compose._column_transformer.make_column_selector object at 0x7f10ae6b7a90>)])"
            ],
            "text/html": [
              "<style>#sk-52f40750-7a70-4ca0-a47e-cb5042d3e73d {color: black;background-color: white;}#sk-52f40750-7a70-4ca0-a47e-cb5042d3e73d pre{padding: 0;}#sk-52f40750-7a70-4ca0-a47e-cb5042d3e73d div.sk-toggleable {background-color: white;}#sk-52f40750-7a70-4ca0-a47e-cb5042d3e73d label.sk-toggleable__label {cursor: pointer;display: block;width: 100%;margin-bottom: 0;padding: 0.3em;box-sizing: border-box;text-align: center;}#sk-52f40750-7a70-4ca0-a47e-cb5042d3e73d label.sk-toggleable__label-arrow:before {content: \"▸\";float: left;margin-right: 0.25em;color: #696969;}#sk-52f40750-7a70-4ca0-a47e-cb5042d3e73d label.sk-toggleable__label-arrow:hover:before {color: black;}#sk-52f40750-7a70-4ca0-a47e-cb5042d3e73d div.sk-estimator:hover label.sk-toggleable__label-arrow:before {color: black;}#sk-52f40750-7a70-4ca0-a47e-cb5042d3e73d div.sk-toggleable__content {max-height: 0;max-width: 0;overflow: hidden;text-align: left;background-color: #f0f8ff;}#sk-52f40750-7a70-4ca0-a47e-cb5042d3e73d div.sk-toggleable__content pre {margin: 0.2em;color: black;border-radius: 0.25em;background-color: #f0f8ff;}#sk-52f40750-7a70-4ca0-a47e-cb5042d3e73d input.sk-toggleable__control:checked~div.sk-toggleable__content {max-height: 200px;max-width: 100%;overflow: auto;}#sk-52f40750-7a70-4ca0-a47e-cb5042d3e73d input.sk-toggleable__control:checked~label.sk-toggleable__label-arrow:before {content: \"▾\";}#sk-52f40750-7a70-4ca0-a47e-cb5042d3e73d div.sk-estimator input.sk-toggleable__control:checked~label.sk-toggleable__label {background-color: #d4ebff;}#sk-52f40750-7a70-4ca0-a47e-cb5042d3e73d div.sk-label input.sk-toggleable__control:checked~label.sk-toggleable__label {background-color: #d4ebff;}#sk-52f40750-7a70-4ca0-a47e-cb5042d3e73d input.sk-hidden--visually {border: 0;clip: rect(1px 1px 1px 1px);clip: rect(1px, 1px, 1px, 1px);height: 1px;margin: -1px;overflow: hidden;padding: 0;position: absolute;width: 1px;}#sk-52f40750-7a70-4ca0-a47e-cb5042d3e73d div.sk-estimator {font-family: monospace;background-color: #f0f8ff;border: 1px dotted black;border-radius: 0.25em;box-sizing: border-box;margin-bottom: 0.5em;}#sk-52f40750-7a70-4ca0-a47e-cb5042d3e73d div.sk-estimator:hover {background-color: #d4ebff;}#sk-52f40750-7a70-4ca0-a47e-cb5042d3e73d div.sk-parallel-item::after {content: \"\";width: 100%;border-bottom: 1px solid gray;flex-grow: 1;}#sk-52f40750-7a70-4ca0-a47e-cb5042d3e73d div.sk-label:hover label.sk-toggleable__label {background-color: #d4ebff;}#sk-52f40750-7a70-4ca0-a47e-cb5042d3e73d div.sk-serial::before {content: \"\";position: absolute;border-left: 1px solid gray;box-sizing: border-box;top: 2em;bottom: 0;left: 50%;}#sk-52f40750-7a70-4ca0-a47e-cb5042d3e73d div.sk-serial {display: flex;flex-direction: column;align-items: center;background-color: white;padding-right: 0.2em;padding-left: 0.2em;}#sk-52f40750-7a70-4ca0-a47e-cb5042d3e73d div.sk-item {z-index: 1;}#sk-52f40750-7a70-4ca0-a47e-cb5042d3e73d div.sk-parallel {display: flex;align-items: stretch;justify-content: center;background-color: white;}#sk-52f40750-7a70-4ca0-a47e-cb5042d3e73d div.sk-parallel::before {content: \"\";position: absolute;border-left: 1px solid gray;box-sizing: border-box;top: 2em;bottom: 0;left: 50%;}#sk-52f40750-7a70-4ca0-a47e-cb5042d3e73d div.sk-parallel-item {display: flex;flex-direction: column;position: relative;background-color: white;}#sk-52f40750-7a70-4ca0-a47e-cb5042d3e73d div.sk-parallel-item:first-child::after {align-self: flex-end;width: 50%;}#sk-52f40750-7a70-4ca0-a47e-cb5042d3e73d div.sk-parallel-item:last-child::after {align-self: flex-start;width: 50%;}#sk-52f40750-7a70-4ca0-a47e-cb5042d3e73d div.sk-parallel-item:only-child::after {width: 0;}#sk-52f40750-7a70-4ca0-a47e-cb5042d3e73d div.sk-dashed-wrapped {border: 1px dashed gray;margin: 0 0.4em 0.5em 0.4em;box-sizing: border-box;padding-bottom: 0.4em;background-color: white;position: relative;}#sk-52f40750-7a70-4ca0-a47e-cb5042d3e73d div.sk-label label {font-family: monospace;font-weight: bold;background-color: white;display: inline-block;line-height: 1.2em;}#sk-52f40750-7a70-4ca0-a47e-cb5042d3e73d div.sk-label-container {position: relative;z-index: 2;text-align: center;}#sk-52f40750-7a70-4ca0-a47e-cb5042d3e73d div.sk-container {/* jupyter's `normalize.less` sets `[hidden] { display: none; }` but bootstrap.min.css set `[hidden] { display: none !important; }` so we also need the `!important` here to be able to override the default hidden behavior on the sphinx rendered scikit-learn.org. See: https://github.com/scikit-learn/scikit-learn/issues/21755 */display: inline-block !important;position: relative;}#sk-52f40750-7a70-4ca0-a47e-cb5042d3e73d div.sk-text-repr-fallback {display: none;}</style><div id=\"sk-52f40750-7a70-4ca0-a47e-cb5042d3e73d\" class=\"sk-top-container\"><div class=\"sk-text-repr-fallback\"><pre>ColumnTransformer(remainder=&#x27;passthrough&#x27;,\n",
              "                  transformers=[(&#x27;pipeline-1&#x27;,\n",
              "                                 Pipeline(steps=[(&#x27;simpleimputer&#x27;,\n",
              "                                                  SimpleImputer()),\n",
              "                                                 (&#x27;standardscaler&#x27;,\n",
              "                                                  StandardScaler())]),\n",
              "                                 &lt;sklearn.compose._column_transformer.make_column_selector object at 0x7f10ae6b7a50&gt;),\n",
              "                                (&#x27;pipeline-2&#x27;,\n",
              "                                 Pipeline(steps=[(&#x27;simpleimputer&#x27;,\n",
              "                                                  SimpleImputer(strategy=&#x27;most_frequent&#x27;)),\n",
              "                                                 (&#x27;onehotencoder&#x27;,\n",
              "                                                  OneHotEncoder(handle_unknown=&#x27;ignore&#x27;,\n",
              "                                                                sparse=False))]),\n",
              "                                 &lt;sklearn.compose._column_transformer.make_column_selector object at 0x7f10ae6b7a90&gt;)])</pre><b>Please rerun this cell to show the HTML repr or trust the notebook.</b></div><div class=\"sk-container\" hidden><div class=\"sk-item sk-dashed-wrapped\"><div class=\"sk-label-container\"><div class=\"sk-label sk-toggleable\"><input class=\"sk-toggleable__control sk-hidden--visually\" id=\"1d7f13fa-bb4d-4c8c-b0a2-a4a144d8be5f\" type=\"checkbox\" ><label for=\"1d7f13fa-bb4d-4c8c-b0a2-a4a144d8be5f\" class=\"sk-toggleable__label sk-toggleable__label-arrow\">ColumnTransformer</label><div class=\"sk-toggleable__content\"><pre>ColumnTransformer(remainder=&#x27;passthrough&#x27;,\n",
              "                  transformers=[(&#x27;pipeline-1&#x27;,\n",
              "                                 Pipeline(steps=[(&#x27;simpleimputer&#x27;,\n",
              "                                                  SimpleImputer()),\n",
              "                                                 (&#x27;standardscaler&#x27;,\n",
              "                                                  StandardScaler())]),\n",
              "                                 &lt;sklearn.compose._column_transformer.make_column_selector object at 0x7f10ae6b7a50&gt;),\n",
              "                                (&#x27;pipeline-2&#x27;,\n",
              "                                 Pipeline(steps=[(&#x27;simpleimputer&#x27;,\n",
              "                                                  SimpleImputer(strategy=&#x27;most_frequent&#x27;)),\n",
              "                                                 (&#x27;onehotencoder&#x27;,\n",
              "                                                  OneHotEncoder(handle_unknown=&#x27;ignore&#x27;,\n",
              "                                                                sparse=False))]),\n",
              "                                 &lt;sklearn.compose._column_transformer.make_column_selector object at 0x7f10ae6b7a90&gt;)])</pre></div></div></div><div class=\"sk-parallel\"><div class=\"sk-parallel-item\"><div class=\"sk-item\"><div class=\"sk-label-container\"><div class=\"sk-label sk-toggleable\"><input class=\"sk-toggleable__control sk-hidden--visually\" id=\"bc1848a5-762c-4e2b-8845-eb6c1dd6f31c\" type=\"checkbox\" ><label for=\"bc1848a5-762c-4e2b-8845-eb6c1dd6f31c\" class=\"sk-toggleable__label sk-toggleable__label-arrow\">pipeline-1</label><div class=\"sk-toggleable__content\"><pre>&lt;sklearn.compose._column_transformer.make_column_selector object at 0x7f10ae6b7a50&gt;</pre></div></div></div><div class=\"sk-serial\"><div class=\"sk-item\"><div class=\"sk-serial\"><div class=\"sk-item\"><div class=\"sk-estimator sk-toggleable\"><input class=\"sk-toggleable__control sk-hidden--visually\" id=\"3f2984b5-c26f-45aa-ad1f-6bfa480eb3f3\" type=\"checkbox\" ><label for=\"3f2984b5-c26f-45aa-ad1f-6bfa480eb3f3\" class=\"sk-toggleable__label sk-toggleable__label-arrow\">SimpleImputer</label><div class=\"sk-toggleable__content\"><pre>SimpleImputer()</pre></div></div></div><div class=\"sk-item\"><div class=\"sk-estimator sk-toggleable\"><input class=\"sk-toggleable__control sk-hidden--visually\" id=\"4c20fc9c-0e6a-48f4-b820-2e6d694463dc\" type=\"checkbox\" ><label for=\"4c20fc9c-0e6a-48f4-b820-2e6d694463dc\" class=\"sk-toggleable__label sk-toggleable__label-arrow\">StandardScaler</label><div class=\"sk-toggleable__content\"><pre>StandardScaler()</pre></div></div></div></div></div></div></div></div><div class=\"sk-parallel-item\"><div class=\"sk-item\"><div class=\"sk-label-container\"><div class=\"sk-label sk-toggleable\"><input class=\"sk-toggleable__control sk-hidden--visually\" id=\"2899bf3c-6a10-4d24-b150-9abedbd02797\" type=\"checkbox\" ><label for=\"2899bf3c-6a10-4d24-b150-9abedbd02797\" class=\"sk-toggleable__label sk-toggleable__label-arrow\">pipeline-2</label><div class=\"sk-toggleable__content\"><pre>&lt;sklearn.compose._column_transformer.make_column_selector object at 0x7f10ae6b7a90&gt;</pre></div></div></div><div class=\"sk-serial\"><div class=\"sk-item\"><div class=\"sk-serial\"><div class=\"sk-item\"><div class=\"sk-estimator sk-toggleable\"><input class=\"sk-toggleable__control sk-hidden--visually\" id=\"b92b9cec-966e-4ff0-998f-eaca1de6e83e\" type=\"checkbox\" ><label for=\"b92b9cec-966e-4ff0-998f-eaca1de6e83e\" class=\"sk-toggleable__label sk-toggleable__label-arrow\">SimpleImputer</label><div class=\"sk-toggleable__content\"><pre>SimpleImputer(strategy=&#x27;most_frequent&#x27;)</pre></div></div></div><div class=\"sk-item\"><div class=\"sk-estimator sk-toggleable\"><input class=\"sk-toggleable__control sk-hidden--visually\" id=\"275bf520-83a3-45ef-8108-ee78f9881ee9\" type=\"checkbox\" ><label for=\"275bf520-83a3-45ef-8108-ee78f9881ee9\" class=\"sk-toggleable__label sk-toggleable__label-arrow\">OneHotEncoder</label><div class=\"sk-toggleable__content\"><pre>OneHotEncoder(handle_unknown=&#x27;ignore&#x27;, sparse=False)</pre></div></div></div></div></div></div></div></div><div class=\"sk-parallel-item\"><div class=\"sk-item\"><div class=\"sk-label-container\"><div class=\"sk-label sk-toggleable\"><input class=\"sk-toggleable__control sk-hidden--visually\" id=\"f25d248d-7912-4f19-bbe8-f0a858b910c0\" type=\"checkbox\" ><label for=\"f25d248d-7912-4f19-bbe8-f0a858b910c0\" class=\"sk-toggleable__label sk-toggleable__label-arrow\">remainder</label><div class=\"sk-toggleable__content\"><pre>[]</pre></div></div></div><div class=\"sk-serial\"><div class=\"sk-item\"><div class=\"sk-estimator sk-toggleable\"><input class=\"sk-toggleable__control sk-hidden--visually\" id=\"8d9ed59a-b969-4b7f-a889-b1e200f19be6\" type=\"checkbox\" ><label for=\"8d9ed59a-b969-4b7f-a889-b1e200f19be6\" class=\"sk-toggleable__label sk-toggleable__label-arrow\">passthrough</label><div class=\"sk-toggleable__content\"><pre>passthrough</pre></div></div></div></div></div></div></div></div></div></div>"
            ]
          },
          "metadata": {},
          "execution_count": 40
        }
      ]
    },
    {
      "cell_type": "code",
      "source": [
        "#transform train and test\n",
        "X_train_processed = preprocessor.transform(X_train)\n",
        "X_test_processed = preprocessor.transform(X_test)"
      ],
      "metadata": {
        "id": "2t81QrhnnMXo"
      },
      "execution_count": 41,
      "outputs": []
    },
    {
      "cell_type": "code",
      "source": [
        "#check for missing values and that data is scaled and onehot encoded\n",
        "print(np.isnan(X_train_processed).sum().sum(), 'missing values in training data')\n",
        "print(np.isnan(X_test_processed).sum().sum(), 'missing values in testing data')\n",
        "print('/n')\n",
        "print('All data in X_train_processed are', X_train_processed.dtype)\n",
        "print('All data in X_test_processed are', X_test_processed.dtype)\n",
        "print('/n')\n",
        "print('shape of data is', X_train_processed.shape)\n",
        "print('/n')\n",
        "X_train_processed"
      ],
      "metadata": {
        "colab": {
          "base_uri": "https://localhost:8080/"
        },
        "id": "_yTAkW_2nt0q",
        "outputId": "c52484cc-0a4c-4df4-de9b-e4b6ec4f4539"
      },
      "execution_count": 42,
      "outputs": [
        {
          "output_type": "stream",
          "name": "stdout",
          "text": [
            "0 missing values in training data\n",
            "0 missing values in testing data\n",
            "/n\n",
            "All data in X_train_processed are float64\n",
            "All data in X_test_processed are float64\n",
            "/n\n",
            "shape of data is (6392, 1595)\n",
            "/n\n"
          ]
        },
        {
          "output_type": "execute_result",
          "data": {
            "text/plain": [
              "array([[ 0.81724868, -0.71277507,  1.82810922, ...,  0.        ,\n",
              "         1.        ,  0.        ],\n",
              "       [ 0.5563395 , -1.29105225,  0.60336888, ...,  0.        ,\n",
              "         1.        ,  0.        ],\n",
              "       [-0.13151196,  1.81331864,  0.24454056, ...,  1.        ,\n",
              "         0.        ,  0.        ],\n",
              "       ...,\n",
              "       [ 1.11373638, -0.92052713,  1.52302674, ...,  1.        ,\n",
              "         0.        ,  0.        ],\n",
              "       [ 1.76600931, -0.2277552 , -0.38377708, ...,  1.        ,\n",
              "         0.        ,  0.        ],\n",
              "       [ 0.81724868, -0.95867683, -0.73836105, ...,  1.        ,\n",
              "         0.        ,  0.        ]])"
            ]
          },
          "metadata": {},
          "execution_count": 42
        }
      ]
    },
    {
      "cell_type": "code",
      "source": [
        "#check for null values\n",
        "sales.isna().sum()"
      ],
      "metadata": {
        "id": "2Mtzkxut3FfX",
        "outputId": "a868c6fd-1746-483b-cc5b-676e3a26dee4",
        "colab": {
          "base_uri": "https://localhost:8080/"
        }
      },
      "execution_count": 43,
      "outputs": [
        {
          "output_type": "execute_result",
          "data": {
            "text/plain": [
              "Item_Identifier                 0\n",
              "Item_Weight                  1463\n",
              "Item_Fat_Content                0\n",
              "Item_Visibility                 0\n",
              "Item_Type                       0\n",
              "Item_MRP                        0\n",
              "Outlet_Identifier               0\n",
              "Outlet_Establishment_Year       0\n",
              "Outlet_Size                  2410\n",
              "Outlet_Location_Type            0\n",
              "Outlet_Type                     0\n",
              "Item_Outlet_Sales               0\n",
              "dtype: int64"
            ]
          },
          "metadata": {},
          "execution_count": 43
        }
      ]
    },
    {
      "cell_type": "code",
      "source": [
        "#drop missing data for Item Weight due to it does not apper it could be beneficial data to determine sales \n",
        "df = df.drop(columns='Item_Weight')\n"
      ],
      "metadata": {
        "id": "qbWlocBB3StQ"
      },
      "execution_count": 44,
      "outputs": []
    },
    {
      "cell_type": "code",
      "source": [
        "df[df.isna().any(axis=1)]"
      ],
      "metadata": {
        "id": "rgioudF8MwTM",
        "outputId": "42f9d241-c7d9-4452-87fe-e1d01d3fa393",
        "colab": {
          "base_uri": "https://localhost:8080/",
          "height": 661
        }
      },
      "execution_count": 45,
      "outputs": [
        {
          "output_type": "execute_result",
          "data": {
            "text/plain": [
              "     Item_Identifier Item_Fat_Content  Item_Visibility              Item_Type  \\\n",
              "3              FDX07          Regular         0.000000  Fruits and Vegetables   \n",
              "8              FDH17          Regular         0.016687           Frozen Foods   \n",
              "9              FDU28          Regular         0.094450           Frozen Foods   \n",
              "25             NCD06          Low Fat         0.099887              Household   \n",
              "28             FDE51          Regular         0.161467                  Dairy   \n",
              "...              ...              ...              ...                    ...   \n",
              "8502           NCH43          Low Fat         0.070712              Household   \n",
              "8508           FDW31          Regular         0.043246  Fruits and Vegetables   \n",
              "8509           FDG45          Low Fat         0.214306  Fruits and Vegetables   \n",
              "8514           FDA01          Regular         0.054489                 Canned   \n",
              "8519           FDS36          Regular         0.046982           Baking Goods   \n",
              "\n",
              "      Item_MRP Outlet_Identifier  Outlet_Establishment_Year Outlet_Size  \\\n",
              "3     182.0950            OUT010                       1998         NaN   \n",
              "8      96.9726            OUT045                       2002         NaN   \n",
              "9     187.8214            OUT017                       2007         NaN   \n",
              "25     45.9060            OUT017                       2007         NaN   \n",
              "28     45.5086            OUT010                       1998         NaN   \n",
              "...        ...               ...                        ...         ...   \n",
              "8502  216.4192            OUT045                       2002         NaN   \n",
              "8508  199.4742            OUT045                       2002         NaN   \n",
              "8509  213.9902            OUT010                       1998         NaN   \n",
              "8514   57.5904            OUT045                       2002         NaN   \n",
              "8519  108.1570            OUT045                       2002         NaN   \n",
              "\n",
              "     Outlet_Location_Type        Outlet_Type  Item_Outlet_Sales  \n",
              "3                  Tier 3      Grocery Store           732.3800  \n",
              "8                  Tier 2  Supermarket Type1          1076.5986  \n",
              "9                  Tier 2  Supermarket Type1          4710.5350  \n",
              "25                 Tier 2  Supermarket Type1           838.9080  \n",
              "28                 Tier 3      Grocery Store           178.4344  \n",
              "...                   ...                ...                ...  \n",
              "8502               Tier 2  Supermarket Type1          3020.0688  \n",
              "8508               Tier 2  Supermarket Type1          2587.9646  \n",
              "8509               Tier 3      Grocery Store           424.7804  \n",
              "8514               Tier 2  Supermarket Type1           468.7232  \n",
              "8519               Tier 2  Supermarket Type1           549.2850  \n",
              "\n",
              "[2410 rows x 11 columns]"
            ],
            "text/html": [
              "\n",
              "  <div id=\"df-67b170a3-de47-4407-a8f3-5c78d88e304a\">\n",
              "    <div class=\"colab-df-container\">\n",
              "      <div>\n",
              "<style scoped>\n",
              "    .dataframe tbody tr th:only-of-type {\n",
              "        vertical-align: middle;\n",
              "    }\n",
              "\n",
              "    .dataframe tbody tr th {\n",
              "        vertical-align: top;\n",
              "    }\n",
              "\n",
              "    .dataframe thead th {\n",
              "        text-align: right;\n",
              "    }\n",
              "</style>\n",
              "<table border=\"1\" class=\"dataframe\">\n",
              "  <thead>\n",
              "    <tr style=\"text-align: right;\">\n",
              "      <th></th>\n",
              "      <th>Item_Identifier</th>\n",
              "      <th>Item_Fat_Content</th>\n",
              "      <th>Item_Visibility</th>\n",
              "      <th>Item_Type</th>\n",
              "      <th>Item_MRP</th>\n",
              "      <th>Outlet_Identifier</th>\n",
              "      <th>Outlet_Establishment_Year</th>\n",
              "      <th>Outlet_Size</th>\n",
              "      <th>Outlet_Location_Type</th>\n",
              "      <th>Outlet_Type</th>\n",
              "      <th>Item_Outlet_Sales</th>\n",
              "    </tr>\n",
              "  </thead>\n",
              "  <tbody>\n",
              "    <tr>\n",
              "      <th>3</th>\n",
              "      <td>FDX07</td>\n",
              "      <td>Regular</td>\n",
              "      <td>0.000000</td>\n",
              "      <td>Fruits and Vegetables</td>\n",
              "      <td>182.0950</td>\n",
              "      <td>OUT010</td>\n",
              "      <td>1998</td>\n",
              "      <td>NaN</td>\n",
              "      <td>Tier 3</td>\n",
              "      <td>Grocery Store</td>\n",
              "      <td>732.3800</td>\n",
              "    </tr>\n",
              "    <tr>\n",
              "      <th>8</th>\n",
              "      <td>FDH17</td>\n",
              "      <td>Regular</td>\n",
              "      <td>0.016687</td>\n",
              "      <td>Frozen Foods</td>\n",
              "      <td>96.9726</td>\n",
              "      <td>OUT045</td>\n",
              "      <td>2002</td>\n",
              "      <td>NaN</td>\n",
              "      <td>Tier 2</td>\n",
              "      <td>Supermarket Type1</td>\n",
              "      <td>1076.5986</td>\n",
              "    </tr>\n",
              "    <tr>\n",
              "      <th>9</th>\n",
              "      <td>FDU28</td>\n",
              "      <td>Regular</td>\n",
              "      <td>0.094450</td>\n",
              "      <td>Frozen Foods</td>\n",
              "      <td>187.8214</td>\n",
              "      <td>OUT017</td>\n",
              "      <td>2007</td>\n",
              "      <td>NaN</td>\n",
              "      <td>Tier 2</td>\n",
              "      <td>Supermarket Type1</td>\n",
              "      <td>4710.5350</td>\n",
              "    </tr>\n",
              "    <tr>\n",
              "      <th>25</th>\n",
              "      <td>NCD06</td>\n",
              "      <td>Low Fat</td>\n",
              "      <td>0.099887</td>\n",
              "      <td>Household</td>\n",
              "      <td>45.9060</td>\n",
              "      <td>OUT017</td>\n",
              "      <td>2007</td>\n",
              "      <td>NaN</td>\n",
              "      <td>Tier 2</td>\n",
              "      <td>Supermarket Type1</td>\n",
              "      <td>838.9080</td>\n",
              "    </tr>\n",
              "    <tr>\n",
              "      <th>28</th>\n",
              "      <td>FDE51</td>\n",
              "      <td>Regular</td>\n",
              "      <td>0.161467</td>\n",
              "      <td>Dairy</td>\n",
              "      <td>45.5086</td>\n",
              "      <td>OUT010</td>\n",
              "      <td>1998</td>\n",
              "      <td>NaN</td>\n",
              "      <td>Tier 3</td>\n",
              "      <td>Grocery Store</td>\n",
              "      <td>178.4344</td>\n",
              "    </tr>\n",
              "    <tr>\n",
              "      <th>...</th>\n",
              "      <td>...</td>\n",
              "      <td>...</td>\n",
              "      <td>...</td>\n",
              "      <td>...</td>\n",
              "      <td>...</td>\n",
              "      <td>...</td>\n",
              "      <td>...</td>\n",
              "      <td>...</td>\n",
              "      <td>...</td>\n",
              "      <td>...</td>\n",
              "      <td>...</td>\n",
              "    </tr>\n",
              "    <tr>\n",
              "      <th>8502</th>\n",
              "      <td>NCH43</td>\n",
              "      <td>Low Fat</td>\n",
              "      <td>0.070712</td>\n",
              "      <td>Household</td>\n",
              "      <td>216.4192</td>\n",
              "      <td>OUT045</td>\n",
              "      <td>2002</td>\n",
              "      <td>NaN</td>\n",
              "      <td>Tier 2</td>\n",
              "      <td>Supermarket Type1</td>\n",
              "      <td>3020.0688</td>\n",
              "    </tr>\n",
              "    <tr>\n",
              "      <th>8508</th>\n",
              "      <td>FDW31</td>\n",
              "      <td>Regular</td>\n",
              "      <td>0.043246</td>\n",
              "      <td>Fruits and Vegetables</td>\n",
              "      <td>199.4742</td>\n",
              "      <td>OUT045</td>\n",
              "      <td>2002</td>\n",
              "      <td>NaN</td>\n",
              "      <td>Tier 2</td>\n",
              "      <td>Supermarket Type1</td>\n",
              "      <td>2587.9646</td>\n",
              "    </tr>\n",
              "    <tr>\n",
              "      <th>8509</th>\n",
              "      <td>FDG45</td>\n",
              "      <td>Low Fat</td>\n",
              "      <td>0.214306</td>\n",
              "      <td>Fruits and Vegetables</td>\n",
              "      <td>213.9902</td>\n",
              "      <td>OUT010</td>\n",
              "      <td>1998</td>\n",
              "      <td>NaN</td>\n",
              "      <td>Tier 3</td>\n",
              "      <td>Grocery Store</td>\n",
              "      <td>424.7804</td>\n",
              "    </tr>\n",
              "    <tr>\n",
              "      <th>8514</th>\n",
              "      <td>FDA01</td>\n",
              "      <td>Regular</td>\n",
              "      <td>0.054489</td>\n",
              "      <td>Canned</td>\n",
              "      <td>57.5904</td>\n",
              "      <td>OUT045</td>\n",
              "      <td>2002</td>\n",
              "      <td>NaN</td>\n",
              "      <td>Tier 2</td>\n",
              "      <td>Supermarket Type1</td>\n",
              "      <td>468.7232</td>\n",
              "    </tr>\n",
              "    <tr>\n",
              "      <th>8519</th>\n",
              "      <td>FDS36</td>\n",
              "      <td>Regular</td>\n",
              "      <td>0.046982</td>\n",
              "      <td>Baking Goods</td>\n",
              "      <td>108.1570</td>\n",
              "      <td>OUT045</td>\n",
              "      <td>2002</td>\n",
              "      <td>NaN</td>\n",
              "      <td>Tier 2</td>\n",
              "      <td>Supermarket Type1</td>\n",
              "      <td>549.2850</td>\n",
              "    </tr>\n",
              "  </tbody>\n",
              "</table>\n",
              "<p>2410 rows × 11 columns</p>\n",
              "</div>\n",
              "      <button class=\"colab-df-convert\" onclick=\"convertToInteractive('df-67b170a3-de47-4407-a8f3-5c78d88e304a')\"\n",
              "              title=\"Convert this dataframe to an interactive table.\"\n",
              "              style=\"display:none;\">\n",
              "        \n",
              "  <svg xmlns=\"http://www.w3.org/2000/svg\" height=\"24px\"viewBox=\"0 0 24 24\"\n",
              "       width=\"24px\">\n",
              "    <path d=\"M0 0h24v24H0V0z\" fill=\"none\"/>\n",
              "    <path d=\"M18.56 5.44l.94 2.06.94-2.06 2.06-.94-2.06-.94-.94-2.06-.94 2.06-2.06.94zm-11 1L8.5 8.5l.94-2.06 2.06-.94-2.06-.94L8.5 2.5l-.94 2.06-2.06.94zm10 10l.94 2.06.94-2.06 2.06-.94-2.06-.94-.94-2.06-.94 2.06-2.06.94z\"/><path d=\"M17.41 7.96l-1.37-1.37c-.4-.4-.92-.59-1.43-.59-.52 0-1.04.2-1.43.59L10.3 9.45l-7.72 7.72c-.78.78-.78 2.05 0 2.83L4 21.41c.39.39.9.59 1.41.59.51 0 1.02-.2 1.41-.59l7.78-7.78 2.81-2.81c.8-.78.8-2.07 0-2.86zM5.41 20L4 18.59l7.72-7.72 1.47 1.35L5.41 20z\"/>\n",
              "  </svg>\n",
              "      </button>\n",
              "      \n",
              "  <style>\n",
              "    .colab-df-container {\n",
              "      display:flex;\n",
              "      flex-wrap:wrap;\n",
              "      gap: 12px;\n",
              "    }\n",
              "\n",
              "    .colab-df-convert {\n",
              "      background-color: #E8F0FE;\n",
              "      border: none;\n",
              "      border-radius: 50%;\n",
              "      cursor: pointer;\n",
              "      display: none;\n",
              "      fill: #1967D2;\n",
              "      height: 32px;\n",
              "      padding: 0 0 0 0;\n",
              "      width: 32px;\n",
              "    }\n",
              "\n",
              "    .colab-df-convert:hover {\n",
              "      background-color: #E2EBFA;\n",
              "      box-shadow: 0px 1px 2px rgba(60, 64, 67, 0.3), 0px 1px 3px 1px rgba(60, 64, 67, 0.15);\n",
              "      fill: #174EA6;\n",
              "    }\n",
              "\n",
              "    [theme=dark] .colab-df-convert {\n",
              "      background-color: #3B4455;\n",
              "      fill: #D2E3FC;\n",
              "    }\n",
              "\n",
              "    [theme=dark] .colab-df-convert:hover {\n",
              "      background-color: #434B5C;\n",
              "      box-shadow: 0px 1px 3px 1px rgba(0, 0, 0, 0.15);\n",
              "      filter: drop-shadow(0px 1px 2px rgba(0, 0, 0, 0.3));\n",
              "      fill: #FFFFFF;\n",
              "    }\n",
              "  </style>\n",
              "\n",
              "      <script>\n",
              "        const buttonEl =\n",
              "          document.querySelector('#df-67b170a3-de47-4407-a8f3-5c78d88e304a button.colab-df-convert');\n",
              "        buttonEl.style.display =\n",
              "          google.colab.kernel.accessAllowed ? 'block' : 'none';\n",
              "\n",
              "        async function convertToInteractive(key) {\n",
              "          const element = document.querySelector('#df-67b170a3-de47-4407-a8f3-5c78d88e304a');\n",
              "          const dataTable =\n",
              "            await google.colab.kernel.invokeFunction('convertToInteractive',\n",
              "                                                     [key], {});\n",
              "          if (!dataTable) return;\n",
              "\n",
              "          const docLinkHtml = 'Like what you see? Visit the ' +\n",
              "            '<a target=\"_blank\" href=https://colab.research.google.com/notebooks/data_table.ipynb>data table notebook</a>'\n",
              "            + ' to learn more about interactive tables.';\n",
              "          element.innerHTML = '';\n",
              "          dataTable['output_type'] = 'display_data';\n",
              "          await google.colab.output.renderOutput(dataTable, element);\n",
              "          const docLink = document.createElement('div');\n",
              "          docLink.innerHTML = docLinkHtml;\n",
              "          element.appendChild(docLink);\n",
              "        }\n",
              "      </script>\n",
              "    </div>\n",
              "  </div>\n",
              "  "
            ]
          },
          "metadata": {},
          "execution_count": 45
        }
      ]
    },
    {
      "cell_type": "code",
      "source": [
        "null_vals = sales.isna().sum()\n",
        "x = null_vals[null_vals>0].index\n",
        "x"
      ],
      "metadata": {
        "id": "1oZHGn-3P6Ar",
        "outputId": "4a15e7cd-a070-49cb-dc84-9bcd0379eac9",
        "colab": {
          "base_uri": "https://localhost:8080/"
        }
      },
      "execution_count": 46,
      "outputs": [
        {
          "output_type": "execute_result",
          "data": {
            "text/plain": [
              "Index(['Item_Weight', 'Outlet_Size'], dtype='object')"
            ]
          },
          "metadata": {},
          "execution_count": 46
        }
      ]
    },
    {
      "cell_type": "code",
      "source": [
        "# Nan for Outlet Size could make a difference in sales predictions due to size vs sales\n",
        "#replace Nan with missing to keep data \n",
        "def fill_missing():\n",
        "  for miss in x:\n",
        "    sales[miss].fillna('Missing', inplace=True)"
      ],
      "metadata": {
        "id": "b-GM2JgvRfCn"
      },
      "execution_count": 47,
      "outputs": []
    },
    {
      "cell_type": "code",
      "source": [
        "fill_missing()"
      ],
      "metadata": {
        "id": "noVM0WTIR8Y4"
      },
      "execution_count": 48,
      "outputs": []
    },
    {
      "cell_type": "code",
      "source": [
        "sales.isna().sum()"
      ],
      "metadata": {
        "id": "w9cds8ohSATj",
        "outputId": "378c7bef-4309-453b-beaf-6532178a2781",
        "colab": {
          "base_uri": "https://localhost:8080/"
        }
      },
      "execution_count": 49,
      "outputs": [
        {
          "output_type": "execute_result",
          "data": {
            "text/plain": [
              "Item_Identifier              0\n",
              "Item_Weight                  0\n",
              "Item_Fat_Content             0\n",
              "Item_Visibility              0\n",
              "Item_Type                    0\n",
              "Item_MRP                     0\n",
              "Outlet_Identifier            0\n",
              "Outlet_Establishment_Year    0\n",
              "Outlet_Size                  0\n",
              "Outlet_Location_Type         0\n",
              "Outlet_Type                  0\n",
              "Item_Outlet_Sales            0\n",
              "dtype: int64"
            ]
          },
          "metadata": {},
          "execution_count": 49
        }
      ]
    },
    {
      "cell_type": "code",
      "source": [
        "sales.tail(25)"
      ],
      "metadata": {
        "id": "FpBaiC1aTAFE",
        "outputId": "183ccbe5-05f5-4dd1-8123-90956529db91",
        "colab": {
          "base_uri": "https://localhost:8080/",
          "height": 1000
        }
      },
      "execution_count": 50,
      "outputs": [
        {
          "output_type": "execute_result",
          "data": {
            "text/plain": [
              "     Item_Identifier Item_Weight Item_Fat_Content  Item_Visibility  \\\n",
              "8498           NCP54       15.35          Low Fat         0.035293   \n",
              "8499           NCK53        11.6          Low Fat         0.037574   \n",
              "8500           NCQ42       20.35          Low Fat         0.000000   \n",
              "8501           FDW21        5.34          Regular         0.005998   \n",
              "8502           NCH43        8.42          Low Fat         0.070712   \n",
              "8503           FDQ44        20.5          Low Fat         0.036133   \n",
              "8504           NCN18     Missing          Low Fat         0.124111   \n",
              "8505           FDB46        10.5          Regular         0.094146   \n",
              "8506           DRF37       17.25          Low Fat         0.084676   \n",
              "8507           FDN28        5.88          Regular         0.030242   \n",
              "8508           FDW31       11.35          Regular         0.043246   \n",
              "8509           FDG45         8.1          Low Fat         0.214306   \n",
              "8510           FDN58        13.8          Regular         0.056862   \n",
              "8511           FDF05        17.5          Low Fat         0.026980   \n",
              "8512           FDR26        20.7          Low Fat         0.042801   \n",
              "8513           FDH31        12.0          Regular         0.020407   \n",
              "8514           FDA01        15.0          Regular         0.054489   \n",
              "8515           FDH24        20.7          Low Fat         0.021518   \n",
              "8516           NCJ19        18.6          Low Fat         0.118661   \n",
              "8517           FDF53       20.75              reg         0.083607   \n",
              "8518           FDF22       6.865          Low Fat         0.056783   \n",
              "8519           FDS36        8.38          Regular         0.046982   \n",
              "8520           NCJ29        10.6          Low Fat         0.035186   \n",
              "8521           FDN46        7.21          Regular         0.145221   \n",
              "8522           DRG01        14.8          Low Fat         0.044878   \n",
              "\n",
              "                  Item_Type  Item_MRP Outlet_Identifier  \\\n",
              "8498              Household  124.5730            OUT018   \n",
              "8499     Health and Hygiene  100.0042            OUT035   \n",
              "8500              Household  125.1678            OUT017   \n",
              "8501            Snack Foods  100.4358            OUT017   \n",
              "8502              Household  216.4192            OUT045   \n",
              "8503  Fruits and Vegetables  120.1756            OUT035   \n",
              "8504              Household  111.7544            OUT027   \n",
              "8505            Snack Foods  210.8244            OUT018   \n",
              "8506            Soft Drinks  263.1910            OUT018   \n",
              "8507           Frozen Foods  101.7990            OUT035   \n",
              "8508  Fruits and Vegetables  199.4742            OUT045   \n",
              "8509  Fruits and Vegetables  213.9902            OUT010   \n",
              "8510            Snack Foods  231.5984            OUT035   \n",
              "8511           Frozen Foods  262.5910            OUT018   \n",
              "8512                  Dairy  178.3028            OUT013   \n",
              "8513                   Meat   99.9042            OUT035   \n",
              "8514                 Canned   57.5904            OUT045   \n",
              "8515           Baking Goods  157.5288            OUT018   \n",
              "8516                 Others   58.7588            OUT018   \n",
              "8517           Frozen Foods  178.8318            OUT046   \n",
              "8518            Snack Foods  214.5218            OUT013   \n",
              "8519           Baking Goods  108.1570            OUT045   \n",
              "8520     Health and Hygiene   85.1224            OUT035   \n",
              "8521            Snack Foods  103.1332            OUT018   \n",
              "8522            Soft Drinks   75.4670            OUT046   \n",
              "\n",
              "      Outlet_Establishment_Year Outlet_Size Outlet_Location_Type  \\\n",
              "8498                       2009      Medium               Tier 3   \n",
              "8499                       2004       Small               Tier 2   \n",
              "8500                       2007     Missing               Tier 2   \n",
              "8501                       2007     Missing               Tier 2   \n",
              "8502                       2002     Missing               Tier 2   \n",
              "8503                       2004       Small               Tier 2   \n",
              "8504                       1985      Medium               Tier 3   \n",
              "8505                       2009      Medium               Tier 3   \n",
              "8506                       2009      Medium               Tier 3   \n",
              "8507                       2004       Small               Tier 2   \n",
              "8508                       2002     Missing               Tier 2   \n",
              "8509                       1998     Missing               Tier 3   \n",
              "8510                       2004       Small               Tier 2   \n",
              "8511                       2009      Medium               Tier 3   \n",
              "8512                       1987        High               Tier 3   \n",
              "8513                       2004       Small               Tier 2   \n",
              "8514                       2002     Missing               Tier 2   \n",
              "8515                       2009      Medium               Tier 3   \n",
              "8516                       2009      Medium               Tier 3   \n",
              "8517                       1997       Small               Tier 1   \n",
              "8518                       1987        High               Tier 3   \n",
              "8519                       2002     Missing               Tier 2   \n",
              "8520                       2004       Small               Tier 2   \n",
              "8521                       2009      Medium               Tier 3   \n",
              "8522                       1997       Small               Tier 1   \n",
              "\n",
              "            Outlet_Type  Item_Outlet_Sales  \n",
              "8498  Supermarket Type2          1601.2490  \n",
              "8499  Supermarket Type1          2976.1260  \n",
              "8500  Supermarket Type1          1907.5170  \n",
              "8501  Supermarket Type1          1508.0370  \n",
              "8502  Supermarket Type1          3020.0688  \n",
              "8503  Supermarket Type1          3392.9168  \n",
              "8504  Supermarket Type3          4138.6128  \n",
              "8505  Supermarket Type2          2117.2440  \n",
              "8506  Supermarket Type2          3944.8650  \n",
              "8507  Supermarket Type1           515.9950  \n",
              "8508  Supermarket Type1          2587.9646  \n",
              "8509      Grocery Store           424.7804  \n",
              "8510  Supermarket Type1          7182.6504  \n",
              "8511  Supermarket Type2          4207.8560  \n",
              "8512  Supermarket Type1          2479.4392  \n",
              "8513  Supermarket Type1           595.2252  \n",
              "8514  Supermarket Type1           468.7232  \n",
              "8515  Supermarket Type2          1571.2880  \n",
              "8516  Supermarket Type2           858.8820  \n",
              "8517  Supermarket Type1          3608.6360  \n",
              "8518  Supermarket Type1          2778.3834  \n",
              "8519  Supermarket Type1           549.2850  \n",
              "8520  Supermarket Type1          1193.1136  \n",
              "8521  Supermarket Type2          1845.5976  \n",
              "8522  Supermarket Type1           765.6700  "
            ],
            "text/html": [
              "\n",
              "  <div id=\"df-314c767e-ff7e-4c59-8f0c-5dfcbf6962ed\">\n",
              "    <div class=\"colab-df-container\">\n",
              "      <div>\n",
              "<style scoped>\n",
              "    .dataframe tbody tr th:only-of-type {\n",
              "        vertical-align: middle;\n",
              "    }\n",
              "\n",
              "    .dataframe tbody tr th {\n",
              "        vertical-align: top;\n",
              "    }\n",
              "\n",
              "    .dataframe thead th {\n",
              "        text-align: right;\n",
              "    }\n",
              "</style>\n",
              "<table border=\"1\" class=\"dataframe\">\n",
              "  <thead>\n",
              "    <tr style=\"text-align: right;\">\n",
              "      <th></th>\n",
              "      <th>Item_Identifier</th>\n",
              "      <th>Item_Weight</th>\n",
              "      <th>Item_Fat_Content</th>\n",
              "      <th>Item_Visibility</th>\n",
              "      <th>Item_Type</th>\n",
              "      <th>Item_MRP</th>\n",
              "      <th>Outlet_Identifier</th>\n",
              "      <th>Outlet_Establishment_Year</th>\n",
              "      <th>Outlet_Size</th>\n",
              "      <th>Outlet_Location_Type</th>\n",
              "      <th>Outlet_Type</th>\n",
              "      <th>Item_Outlet_Sales</th>\n",
              "    </tr>\n",
              "  </thead>\n",
              "  <tbody>\n",
              "    <tr>\n",
              "      <th>8498</th>\n",
              "      <td>NCP54</td>\n",
              "      <td>15.35</td>\n",
              "      <td>Low Fat</td>\n",
              "      <td>0.035293</td>\n",
              "      <td>Household</td>\n",
              "      <td>124.5730</td>\n",
              "      <td>OUT018</td>\n",
              "      <td>2009</td>\n",
              "      <td>Medium</td>\n",
              "      <td>Tier 3</td>\n",
              "      <td>Supermarket Type2</td>\n",
              "      <td>1601.2490</td>\n",
              "    </tr>\n",
              "    <tr>\n",
              "      <th>8499</th>\n",
              "      <td>NCK53</td>\n",
              "      <td>11.6</td>\n",
              "      <td>Low Fat</td>\n",
              "      <td>0.037574</td>\n",
              "      <td>Health and Hygiene</td>\n",
              "      <td>100.0042</td>\n",
              "      <td>OUT035</td>\n",
              "      <td>2004</td>\n",
              "      <td>Small</td>\n",
              "      <td>Tier 2</td>\n",
              "      <td>Supermarket Type1</td>\n",
              "      <td>2976.1260</td>\n",
              "    </tr>\n",
              "    <tr>\n",
              "      <th>8500</th>\n",
              "      <td>NCQ42</td>\n",
              "      <td>20.35</td>\n",
              "      <td>Low Fat</td>\n",
              "      <td>0.000000</td>\n",
              "      <td>Household</td>\n",
              "      <td>125.1678</td>\n",
              "      <td>OUT017</td>\n",
              "      <td>2007</td>\n",
              "      <td>Missing</td>\n",
              "      <td>Tier 2</td>\n",
              "      <td>Supermarket Type1</td>\n",
              "      <td>1907.5170</td>\n",
              "    </tr>\n",
              "    <tr>\n",
              "      <th>8501</th>\n",
              "      <td>FDW21</td>\n",
              "      <td>5.34</td>\n",
              "      <td>Regular</td>\n",
              "      <td>0.005998</td>\n",
              "      <td>Snack Foods</td>\n",
              "      <td>100.4358</td>\n",
              "      <td>OUT017</td>\n",
              "      <td>2007</td>\n",
              "      <td>Missing</td>\n",
              "      <td>Tier 2</td>\n",
              "      <td>Supermarket Type1</td>\n",
              "      <td>1508.0370</td>\n",
              "    </tr>\n",
              "    <tr>\n",
              "      <th>8502</th>\n",
              "      <td>NCH43</td>\n",
              "      <td>8.42</td>\n",
              "      <td>Low Fat</td>\n",
              "      <td>0.070712</td>\n",
              "      <td>Household</td>\n",
              "      <td>216.4192</td>\n",
              "      <td>OUT045</td>\n",
              "      <td>2002</td>\n",
              "      <td>Missing</td>\n",
              "      <td>Tier 2</td>\n",
              "      <td>Supermarket Type1</td>\n",
              "      <td>3020.0688</td>\n",
              "    </tr>\n",
              "    <tr>\n",
              "      <th>8503</th>\n",
              "      <td>FDQ44</td>\n",
              "      <td>20.5</td>\n",
              "      <td>Low Fat</td>\n",
              "      <td>0.036133</td>\n",
              "      <td>Fruits and Vegetables</td>\n",
              "      <td>120.1756</td>\n",
              "      <td>OUT035</td>\n",
              "      <td>2004</td>\n",
              "      <td>Small</td>\n",
              "      <td>Tier 2</td>\n",
              "      <td>Supermarket Type1</td>\n",
              "      <td>3392.9168</td>\n",
              "    </tr>\n",
              "    <tr>\n",
              "      <th>8504</th>\n",
              "      <td>NCN18</td>\n",
              "      <td>Missing</td>\n",
              "      <td>Low Fat</td>\n",
              "      <td>0.124111</td>\n",
              "      <td>Household</td>\n",
              "      <td>111.7544</td>\n",
              "      <td>OUT027</td>\n",
              "      <td>1985</td>\n",
              "      <td>Medium</td>\n",
              "      <td>Tier 3</td>\n",
              "      <td>Supermarket Type3</td>\n",
              "      <td>4138.6128</td>\n",
              "    </tr>\n",
              "    <tr>\n",
              "      <th>8505</th>\n",
              "      <td>FDB46</td>\n",
              "      <td>10.5</td>\n",
              "      <td>Regular</td>\n",
              "      <td>0.094146</td>\n",
              "      <td>Snack Foods</td>\n",
              "      <td>210.8244</td>\n",
              "      <td>OUT018</td>\n",
              "      <td>2009</td>\n",
              "      <td>Medium</td>\n",
              "      <td>Tier 3</td>\n",
              "      <td>Supermarket Type2</td>\n",
              "      <td>2117.2440</td>\n",
              "    </tr>\n",
              "    <tr>\n",
              "      <th>8506</th>\n",
              "      <td>DRF37</td>\n",
              "      <td>17.25</td>\n",
              "      <td>Low Fat</td>\n",
              "      <td>0.084676</td>\n",
              "      <td>Soft Drinks</td>\n",
              "      <td>263.1910</td>\n",
              "      <td>OUT018</td>\n",
              "      <td>2009</td>\n",
              "      <td>Medium</td>\n",
              "      <td>Tier 3</td>\n",
              "      <td>Supermarket Type2</td>\n",
              "      <td>3944.8650</td>\n",
              "    </tr>\n",
              "    <tr>\n",
              "      <th>8507</th>\n",
              "      <td>FDN28</td>\n",
              "      <td>5.88</td>\n",
              "      <td>Regular</td>\n",
              "      <td>0.030242</td>\n",
              "      <td>Frozen Foods</td>\n",
              "      <td>101.7990</td>\n",
              "      <td>OUT035</td>\n",
              "      <td>2004</td>\n",
              "      <td>Small</td>\n",
              "      <td>Tier 2</td>\n",
              "      <td>Supermarket Type1</td>\n",
              "      <td>515.9950</td>\n",
              "    </tr>\n",
              "    <tr>\n",
              "      <th>8508</th>\n",
              "      <td>FDW31</td>\n",
              "      <td>11.35</td>\n",
              "      <td>Regular</td>\n",
              "      <td>0.043246</td>\n",
              "      <td>Fruits and Vegetables</td>\n",
              "      <td>199.4742</td>\n",
              "      <td>OUT045</td>\n",
              "      <td>2002</td>\n",
              "      <td>Missing</td>\n",
              "      <td>Tier 2</td>\n",
              "      <td>Supermarket Type1</td>\n",
              "      <td>2587.9646</td>\n",
              "    </tr>\n",
              "    <tr>\n",
              "      <th>8509</th>\n",
              "      <td>FDG45</td>\n",
              "      <td>8.1</td>\n",
              "      <td>Low Fat</td>\n",
              "      <td>0.214306</td>\n",
              "      <td>Fruits and Vegetables</td>\n",
              "      <td>213.9902</td>\n",
              "      <td>OUT010</td>\n",
              "      <td>1998</td>\n",
              "      <td>Missing</td>\n",
              "      <td>Tier 3</td>\n",
              "      <td>Grocery Store</td>\n",
              "      <td>424.7804</td>\n",
              "    </tr>\n",
              "    <tr>\n",
              "      <th>8510</th>\n",
              "      <td>FDN58</td>\n",
              "      <td>13.8</td>\n",
              "      <td>Regular</td>\n",
              "      <td>0.056862</td>\n",
              "      <td>Snack Foods</td>\n",
              "      <td>231.5984</td>\n",
              "      <td>OUT035</td>\n",
              "      <td>2004</td>\n",
              "      <td>Small</td>\n",
              "      <td>Tier 2</td>\n",
              "      <td>Supermarket Type1</td>\n",
              "      <td>7182.6504</td>\n",
              "    </tr>\n",
              "    <tr>\n",
              "      <th>8511</th>\n",
              "      <td>FDF05</td>\n",
              "      <td>17.5</td>\n",
              "      <td>Low Fat</td>\n",
              "      <td>0.026980</td>\n",
              "      <td>Frozen Foods</td>\n",
              "      <td>262.5910</td>\n",
              "      <td>OUT018</td>\n",
              "      <td>2009</td>\n",
              "      <td>Medium</td>\n",
              "      <td>Tier 3</td>\n",
              "      <td>Supermarket Type2</td>\n",
              "      <td>4207.8560</td>\n",
              "    </tr>\n",
              "    <tr>\n",
              "      <th>8512</th>\n",
              "      <td>FDR26</td>\n",
              "      <td>20.7</td>\n",
              "      <td>Low Fat</td>\n",
              "      <td>0.042801</td>\n",
              "      <td>Dairy</td>\n",
              "      <td>178.3028</td>\n",
              "      <td>OUT013</td>\n",
              "      <td>1987</td>\n",
              "      <td>High</td>\n",
              "      <td>Tier 3</td>\n",
              "      <td>Supermarket Type1</td>\n",
              "      <td>2479.4392</td>\n",
              "    </tr>\n",
              "    <tr>\n",
              "      <th>8513</th>\n",
              "      <td>FDH31</td>\n",
              "      <td>12.0</td>\n",
              "      <td>Regular</td>\n",
              "      <td>0.020407</td>\n",
              "      <td>Meat</td>\n",
              "      <td>99.9042</td>\n",
              "      <td>OUT035</td>\n",
              "      <td>2004</td>\n",
              "      <td>Small</td>\n",
              "      <td>Tier 2</td>\n",
              "      <td>Supermarket Type1</td>\n",
              "      <td>595.2252</td>\n",
              "    </tr>\n",
              "    <tr>\n",
              "      <th>8514</th>\n",
              "      <td>FDA01</td>\n",
              "      <td>15.0</td>\n",
              "      <td>Regular</td>\n",
              "      <td>0.054489</td>\n",
              "      <td>Canned</td>\n",
              "      <td>57.5904</td>\n",
              "      <td>OUT045</td>\n",
              "      <td>2002</td>\n",
              "      <td>Missing</td>\n",
              "      <td>Tier 2</td>\n",
              "      <td>Supermarket Type1</td>\n",
              "      <td>468.7232</td>\n",
              "    </tr>\n",
              "    <tr>\n",
              "      <th>8515</th>\n",
              "      <td>FDH24</td>\n",
              "      <td>20.7</td>\n",
              "      <td>Low Fat</td>\n",
              "      <td>0.021518</td>\n",
              "      <td>Baking Goods</td>\n",
              "      <td>157.5288</td>\n",
              "      <td>OUT018</td>\n",
              "      <td>2009</td>\n",
              "      <td>Medium</td>\n",
              "      <td>Tier 3</td>\n",
              "      <td>Supermarket Type2</td>\n",
              "      <td>1571.2880</td>\n",
              "    </tr>\n",
              "    <tr>\n",
              "      <th>8516</th>\n",
              "      <td>NCJ19</td>\n",
              "      <td>18.6</td>\n",
              "      <td>Low Fat</td>\n",
              "      <td>0.118661</td>\n",
              "      <td>Others</td>\n",
              "      <td>58.7588</td>\n",
              "      <td>OUT018</td>\n",
              "      <td>2009</td>\n",
              "      <td>Medium</td>\n",
              "      <td>Tier 3</td>\n",
              "      <td>Supermarket Type2</td>\n",
              "      <td>858.8820</td>\n",
              "    </tr>\n",
              "    <tr>\n",
              "      <th>8517</th>\n",
              "      <td>FDF53</td>\n",
              "      <td>20.75</td>\n",
              "      <td>reg</td>\n",
              "      <td>0.083607</td>\n",
              "      <td>Frozen Foods</td>\n",
              "      <td>178.8318</td>\n",
              "      <td>OUT046</td>\n",
              "      <td>1997</td>\n",
              "      <td>Small</td>\n",
              "      <td>Tier 1</td>\n",
              "      <td>Supermarket Type1</td>\n",
              "      <td>3608.6360</td>\n",
              "    </tr>\n",
              "    <tr>\n",
              "      <th>8518</th>\n",
              "      <td>FDF22</td>\n",
              "      <td>6.865</td>\n",
              "      <td>Low Fat</td>\n",
              "      <td>0.056783</td>\n",
              "      <td>Snack Foods</td>\n",
              "      <td>214.5218</td>\n",
              "      <td>OUT013</td>\n",
              "      <td>1987</td>\n",
              "      <td>High</td>\n",
              "      <td>Tier 3</td>\n",
              "      <td>Supermarket Type1</td>\n",
              "      <td>2778.3834</td>\n",
              "    </tr>\n",
              "    <tr>\n",
              "      <th>8519</th>\n",
              "      <td>FDS36</td>\n",
              "      <td>8.38</td>\n",
              "      <td>Regular</td>\n",
              "      <td>0.046982</td>\n",
              "      <td>Baking Goods</td>\n",
              "      <td>108.1570</td>\n",
              "      <td>OUT045</td>\n",
              "      <td>2002</td>\n",
              "      <td>Missing</td>\n",
              "      <td>Tier 2</td>\n",
              "      <td>Supermarket Type1</td>\n",
              "      <td>549.2850</td>\n",
              "    </tr>\n",
              "    <tr>\n",
              "      <th>8520</th>\n",
              "      <td>NCJ29</td>\n",
              "      <td>10.6</td>\n",
              "      <td>Low Fat</td>\n",
              "      <td>0.035186</td>\n",
              "      <td>Health and Hygiene</td>\n",
              "      <td>85.1224</td>\n",
              "      <td>OUT035</td>\n",
              "      <td>2004</td>\n",
              "      <td>Small</td>\n",
              "      <td>Tier 2</td>\n",
              "      <td>Supermarket Type1</td>\n",
              "      <td>1193.1136</td>\n",
              "    </tr>\n",
              "    <tr>\n",
              "      <th>8521</th>\n",
              "      <td>FDN46</td>\n",
              "      <td>7.21</td>\n",
              "      <td>Regular</td>\n",
              "      <td>0.145221</td>\n",
              "      <td>Snack Foods</td>\n",
              "      <td>103.1332</td>\n",
              "      <td>OUT018</td>\n",
              "      <td>2009</td>\n",
              "      <td>Medium</td>\n",
              "      <td>Tier 3</td>\n",
              "      <td>Supermarket Type2</td>\n",
              "      <td>1845.5976</td>\n",
              "    </tr>\n",
              "    <tr>\n",
              "      <th>8522</th>\n",
              "      <td>DRG01</td>\n",
              "      <td>14.8</td>\n",
              "      <td>Low Fat</td>\n",
              "      <td>0.044878</td>\n",
              "      <td>Soft Drinks</td>\n",
              "      <td>75.4670</td>\n",
              "      <td>OUT046</td>\n",
              "      <td>1997</td>\n",
              "      <td>Small</td>\n",
              "      <td>Tier 1</td>\n",
              "      <td>Supermarket Type1</td>\n",
              "      <td>765.6700</td>\n",
              "    </tr>\n",
              "  </tbody>\n",
              "</table>\n",
              "</div>\n",
              "      <button class=\"colab-df-convert\" onclick=\"convertToInteractive('df-314c767e-ff7e-4c59-8f0c-5dfcbf6962ed')\"\n",
              "              title=\"Convert this dataframe to an interactive table.\"\n",
              "              style=\"display:none;\">\n",
              "        \n",
              "  <svg xmlns=\"http://www.w3.org/2000/svg\" height=\"24px\"viewBox=\"0 0 24 24\"\n",
              "       width=\"24px\">\n",
              "    <path d=\"M0 0h24v24H0V0z\" fill=\"none\"/>\n",
              "    <path d=\"M18.56 5.44l.94 2.06.94-2.06 2.06-.94-2.06-.94-.94-2.06-.94 2.06-2.06.94zm-11 1L8.5 8.5l.94-2.06 2.06-.94-2.06-.94L8.5 2.5l-.94 2.06-2.06.94zm10 10l.94 2.06.94-2.06 2.06-.94-2.06-.94-.94-2.06-.94 2.06-2.06.94z\"/><path d=\"M17.41 7.96l-1.37-1.37c-.4-.4-.92-.59-1.43-.59-.52 0-1.04.2-1.43.59L10.3 9.45l-7.72 7.72c-.78.78-.78 2.05 0 2.83L4 21.41c.39.39.9.59 1.41.59.51 0 1.02-.2 1.41-.59l7.78-7.78 2.81-2.81c.8-.78.8-2.07 0-2.86zM5.41 20L4 18.59l7.72-7.72 1.47 1.35L5.41 20z\"/>\n",
              "  </svg>\n",
              "      </button>\n",
              "      \n",
              "  <style>\n",
              "    .colab-df-container {\n",
              "      display:flex;\n",
              "      flex-wrap:wrap;\n",
              "      gap: 12px;\n",
              "    }\n",
              "\n",
              "    .colab-df-convert {\n",
              "      background-color: #E8F0FE;\n",
              "      border: none;\n",
              "      border-radius: 50%;\n",
              "      cursor: pointer;\n",
              "      display: none;\n",
              "      fill: #1967D2;\n",
              "      height: 32px;\n",
              "      padding: 0 0 0 0;\n",
              "      width: 32px;\n",
              "    }\n",
              "\n",
              "    .colab-df-convert:hover {\n",
              "      background-color: #E2EBFA;\n",
              "      box-shadow: 0px 1px 2px rgba(60, 64, 67, 0.3), 0px 1px 3px 1px rgba(60, 64, 67, 0.15);\n",
              "      fill: #174EA6;\n",
              "    }\n",
              "\n",
              "    [theme=dark] .colab-df-convert {\n",
              "      background-color: #3B4455;\n",
              "      fill: #D2E3FC;\n",
              "    }\n",
              "\n",
              "    [theme=dark] .colab-df-convert:hover {\n",
              "      background-color: #434B5C;\n",
              "      box-shadow: 0px 1px 3px 1px rgba(0, 0, 0, 0.15);\n",
              "      filter: drop-shadow(0px 1px 2px rgba(0, 0, 0, 0.3));\n",
              "      fill: #FFFFFF;\n",
              "    }\n",
              "  </style>\n",
              "\n",
              "      <script>\n",
              "        const buttonEl =\n",
              "          document.querySelector('#df-314c767e-ff7e-4c59-8f0c-5dfcbf6962ed button.colab-df-convert');\n",
              "        buttonEl.style.display =\n",
              "          google.colab.kernel.accessAllowed ? 'block' : 'none';\n",
              "\n",
              "        async function convertToInteractive(key) {\n",
              "          const element = document.querySelector('#df-314c767e-ff7e-4c59-8f0c-5dfcbf6962ed');\n",
              "          const dataTable =\n",
              "            await google.colab.kernel.invokeFunction('convertToInteractive',\n",
              "                                                     [key], {});\n",
              "          if (!dataTable) return;\n",
              "\n",
              "          const docLinkHtml = 'Like what you see? Visit the ' +\n",
              "            '<a target=\"_blank\" href=https://colab.research.google.com/notebooks/data_table.ipynb>data table notebook</a>'\n",
              "            + ' to learn more about interactive tables.';\n",
              "          element.innerHTML = '';\n",
              "          dataTable['output_type'] = 'display_data';\n",
              "          await google.colab.output.renderOutput(dataTable, element);\n",
              "          const docLink = document.createElement('div');\n",
              "          docLink.innerHTML = docLinkHtml;\n",
              "          element.appendChild(docLink);\n",
              "        }\n",
              "      </script>\n",
              "    </div>\n",
              "  </div>\n",
              "  "
            ]
          },
          "metadata": {},
          "execution_count": 50
        }
      ]
    },
    {
      "cell_type": "code",
      "source": [
        "df['Item_Fat_Content']= df['Item_Fat_Content'].replace('reg', 'Regular')\n",
        "df['Item_Fat_Content'].value_counts()"
      ],
      "metadata": {
        "id": "4DoBrjSQU14w",
        "outputId": "2c87df8a-9e86-4ef6-ea21-f680a1ae95dc",
        "colab": {
          "base_uri": "https://localhost:8080/"
        }
      },
      "execution_count": 51,
      "outputs": [
        {
          "output_type": "execute_result",
          "data": {
            "text/plain": [
              "Low Fat    5089\n",
              "Regular    3006\n",
              "LF          316\n",
              "low fat     112\n",
              "Name: Item_Fat_Content, dtype: int64"
            ]
          },
          "metadata": {},
          "execution_count": 51
        }
      ]
    },
    {
      "cell_type": "code",
      "source": [
        "df['Item_Fat_Content'] =df['Item_Fat_Content'].replace('LF', 'Low Fat')\n"
      ],
      "metadata": {
        "id": "cpgBN_PoVvyV"
      },
      "execution_count": 52,
      "outputs": []
    },
    {
      "cell_type": "code",
      "source": [
        "df['Item_Fat_Content'] =df['Item_Fat_Content'].replace('low fat', 'Low Fat')\n",
        "df['Item_Fat_Content'].value_counts()"
      ],
      "metadata": {
        "id": "_zFC2gd8T3WN",
        "outputId": "febd610d-a037-488b-b1e4-a521babf7667",
        "colab": {
          "base_uri": "https://localhost:8080/"
        }
      },
      "execution_count": 53,
      "outputs": [
        {
          "output_type": "execute_result",
          "data": {
            "text/plain": [
              "Low Fat    5517\n",
              "Regular    3006\n",
              "Name: Item_Fat_Content, dtype: int64"
            ]
          },
          "metadata": {},
          "execution_count": 53
        }
      ]
    },
    {
      "cell_type": "code",
      "source": [
        "df['Item_Outlet_Sales'].value_counts()"
      ],
      "metadata": {
        "id": "4wRId4STYAt5",
        "outputId": "b8db0aa3-23c8-43d1-e091-42bc78489341",
        "colab": {
          "base_uri": "https://localhost:8080/"
        }
      },
      "execution_count": 54,
      "outputs": [
        {
          "output_type": "execute_result",
          "data": {
            "text/plain": [
              "958.7520     17\n",
              "1342.2528    16\n",
              "703.0848     15\n",
              "1845.5976    15\n",
              "1278.3360    14\n",
              "             ..\n",
              "4124.6310     1\n",
              "6622.7126     1\n",
              "1614.5650     1\n",
              "5602.7070     1\n",
              "2778.3834     1\n",
              "Name: Item_Outlet_Sales, Length: 3493, dtype: int64"
            ]
          },
          "metadata": {},
          "execution_count": 54
        }
      ]
    },
    {
      "cell_type": "code",
      "source": [
        "df['Item_Outlet_Sales'].mean()\n"
      ],
      "metadata": {
        "id": "TUsmDWv5WuOH",
        "outputId": "1d15e57f-6769-40bd-af84-0d6b9bdf207c",
        "colab": {
          "base_uri": "https://localhost:8080/"
        }
      },
      "execution_count": 55,
      "outputs": [
        {
          "output_type": "execute_result",
          "data": {
            "text/plain": [
              "2181.2889135750365"
            ]
          },
          "metadata": {},
          "execution_count": 55
        }
      ]
    },
    {
      "cell_type": "code",
      "source": [
        "df['Item_Outlet_Sales'].min()"
      ],
      "metadata": {
        "id": "n-ILoyanYtS5",
        "outputId": "b561ec32-c995-4ffc-bde5-ea9aedb5681f",
        "colab": {
          "base_uri": "https://localhost:8080/"
        }
      },
      "execution_count": 56,
      "outputs": [
        {
          "output_type": "execute_result",
          "data": {
            "text/plain": [
              "33.29"
            ]
          },
          "metadata": {},
          "execution_count": 56
        }
      ]
    },
    {
      "cell_type": "code",
      "source": [
        "df['Item_Outlet_Sales'].max()"
      ],
      "metadata": {
        "id": "zFDYr0_HY1-p",
        "outputId": "b1577097-71ae-4591-cb38-75d6fef28c30",
        "colab": {
          "base_uri": "https://localhost:8080/"
        }
      },
      "execution_count": 57,
      "outputs": [
        {
          "output_type": "execute_result",
          "data": {
            "text/plain": [
              "13086.9648"
            ]
          },
          "metadata": {},
          "execution_count": 57
        }
      ]
    },
    {
      "cell_type": "code",
      "source": [
        "df['Outlet_Establishment_Year'].value_counts()"
      ],
      "metadata": {
        "id": "m7M_vemEZACW",
        "outputId": "59675f24-45b2-4087-df0a-5c3606db1bd9",
        "colab": {
          "base_uri": "https://localhost:8080/"
        }
      },
      "execution_count": 58,
      "outputs": [
        {
          "output_type": "execute_result",
          "data": {
            "text/plain": [
              "1985    1463\n",
              "1987     932\n",
              "1999     930\n",
              "1997     930\n",
              "2004     930\n",
              "2002     929\n",
              "2009     928\n",
              "2007     926\n",
              "1998     555\n",
              "Name: Outlet_Establishment_Year, dtype: int64"
            ]
          },
          "metadata": {},
          "execution_count": 58
        }
      ]
    },
    {
      "cell_type": "code",
      "source": [
        "df['Outlet_Establishment_Year'].mean()"
      ],
      "metadata": {
        "id": "D2BpD2KyZajN",
        "outputId": "2cceed74-2fd3-4b1e-fc59-4a747cc5f655",
        "colab": {
          "base_uri": "https://localhost:8080/"
        }
      },
      "execution_count": 59,
      "outputs": [
        {
          "output_type": "execute_result",
          "data": {
            "text/plain": [
              "1997.8318667135984"
            ]
          },
          "metadata": {},
          "execution_count": 59
        }
      ]
    },
    {
      "cell_type": "code",
      "source": [
        "df['Outlet_Establishment_Year'].min()"
      ],
      "metadata": {
        "id": "AfTjV1sEZnzF",
        "outputId": "ffe18a9c-7d38-4a3a-a3e6-b4418da2a7aa",
        "colab": {
          "base_uri": "https://localhost:8080/"
        }
      },
      "execution_count": 60,
      "outputs": [
        {
          "output_type": "execute_result",
          "data": {
            "text/plain": [
              "1985"
            ]
          },
          "metadata": {},
          "execution_count": 60
        }
      ]
    },
    {
      "cell_type": "code",
      "source": [
        "df['Outlet_Establishment_Year'].max()"
      ],
      "metadata": {
        "id": "oVdlDdXOZuU4",
        "outputId": "9bc1513a-9f6b-4c7b-b1fa-f9279d2adcf1",
        "colab": {
          "base_uri": "https://localhost:8080/"
        }
      },
      "execution_count": 61,
      "outputs": [
        {
          "output_type": "execute_result",
          "data": {
            "text/plain": [
              "2009"
            ]
          },
          "metadata": {},
          "execution_count": 61
        }
      ]
    },
    {
      "cell_type": "code",
      "source": [
        "df['Item_MRP'].value_counts()"
      ],
      "metadata": {
        "id": "L95bC63sZ4yO",
        "outputId": "a03a9a33-9a3f-4174-92be-fd55fffb2f4c",
        "colab": {
          "base_uri": "https://localhost:8080/"
        }
      },
      "execution_count": 62,
      "outputs": [
        {
          "output_type": "execute_result",
          "data": {
            "text/plain": [
              "172.0422    7\n",
              "170.5422    6\n",
              "196.5084    6\n",
              "188.1872    6\n",
              "142.0154    6\n",
              "           ..\n",
              "97.3384     1\n",
              "83.1934     1\n",
              "96.6752     1\n",
              "152.6682    1\n",
              "75.4670     1\n",
              "Name: Item_MRP, Length: 5938, dtype: int64"
            ]
          },
          "metadata": {},
          "execution_count": 62
        }
      ]
    },
    {
      "cell_type": "code",
      "source": [
        "df['Item_MRP'].mean()"
      ],
      "metadata": {
        "id": "mDc87KIuehg7",
        "outputId": "bcc0e773-aadb-4bb2-d821-1012ed440602",
        "colab": {
          "base_uri": "https://localhost:8080/"
        }
      },
      "execution_count": 63,
      "outputs": [
        {
          "output_type": "execute_result",
          "data": {
            "text/plain": [
              "140.9927819781768"
            ]
          },
          "metadata": {},
          "execution_count": 63
        }
      ]
    },
    {
      "cell_type": "code",
      "source": [
        "df['Item_MRP'].min()"
      ],
      "metadata": {
        "id": "hTLqXbNteqSj",
        "outputId": "1929108b-ec2b-4537-b3cd-b7ea8e3f81ed",
        "colab": {
          "base_uri": "https://localhost:8080/"
        }
      },
      "execution_count": 64,
      "outputs": [
        {
          "output_type": "execute_result",
          "data": {
            "text/plain": [
              "31.29"
            ]
          },
          "metadata": {},
          "execution_count": 64
        }
      ]
    },
    {
      "cell_type": "code",
      "source": [
        "df['Item_MRP'].max()"
      ],
      "metadata": {
        "id": "wvzQ1wyQewot",
        "outputId": "8ae73ec1-4416-423d-cfe1-1d156d2ebd1d",
        "colab": {
          "base_uri": "https://localhost:8080/"
        }
      },
      "execution_count": 65,
      "outputs": [
        {
          "output_type": "execute_result",
          "data": {
            "text/plain": [
              "266.8884"
            ]
          },
          "metadata": {},
          "execution_count": 65
        }
      ]
    },
    {
      "cell_type": "code",
      "source": [
        "import matplotlib.pyplot as plt\n",
        "import seaborn as sns"
      ],
      "metadata": {
        "id": "k3IJ2pboCvD_"
      },
      "execution_count": 66,
      "outputs": []
    },
    {
      "cell_type": "code",
      "source": [
        "#compare how long an establishment has been open compared to the total amount of sales and outlet type\n"
      ],
      "metadata": {
        "id": "8oYwPmFaELAw"
      },
      "execution_count": 67,
      "outputs": []
    },
    {
      "cell_type": "code",
      "source": [
        "df.hist(grid=False, bins= ())\n",
        "plt.xlabel=('Item_MRP')\n",
        "plt.ylabel=('Outlet_Establishment_Year')\n",
        "plt.title('Sales amounts per Establishment')"
      ],
      "metadata": {
        "colab": {
          "base_uri": "https://localhost:8080/",
          "height": 298
        },
        "id": "g_WP1BizQvC7",
        "outputId": "6f52d09d-c74f-46d3-e464-85f95fe82db9"
      },
      "execution_count": 68,
      "outputs": [
        {
          "output_type": "execute_result",
          "data": {
            "text/plain": [
              "Text(0.5, 1.0, 'Sales amounts per Establishment')"
            ]
          },
          "metadata": {},
          "execution_count": 68
        },
        {
          "output_type": "display_data",
          "data": {
            "text/plain": [
              "<Figure size 432x288 with 4 Axes>"
            ],
            "image/png": "[encoded data removed]"
          },
          "metadata": {
            "needs_background": "light"
          }
        }
      ]
    },
    {
      "cell_type": "code",
      "source": [
        "fig, axes = plt.subplots(nrows=1,\n",
        "                         figsize=(20, 10))\n",
        "boxplots=axes.boxplot([df['Item_MRP'],df['Item_Outlet_Sales']],\n",
        "                      notch=True,\n",
        "                      labels=['Outlet_Establishment_Year', 'Item_Visibility'])\n",
        "                      \n",
        "                   "
      ],
      "metadata": {
        "colab": {
          "base_uri": "https://localhost:8080/",
          "height": 569
        },
        "id": "aOEz12T5Jjtr",
        "outputId": "c578c39c-46aa-4565-b359-698131afb249"
      },
      "execution_count": 69,
      "outputs": [
        {
          "output_type": "display_data",
          "data": {
            "text/plain": [
              "<Figure size 1440x720 with 1 Axes>"
            ],
            "image/png": "[encoded data removed]"
          },
          "metadata": {
            "needs_background": "light"
          }
        }
      ]
    },
    {
      "cell_type": "code",
      "source": [
        "corr =df.corr()\n",
        "corr\n"
      ],
      "metadata": {
        "colab": {
          "base_uri": "https://localhost:8080/",
          "height": 175
        },
        "id": "HpnzFT_mFrsa",
        "outputId": "3dc1ff7b-84b2-4079-cb59-09771ab5f244"
      },
      "execution_count": 70,
      "outputs": [
        {
          "output_type": "execute_result",
          "data": {
            "text/plain": [
              "                           Item_Visibility  Item_MRP  \\\n",
              "Item_Visibility                   1.000000 -0.001315   \n",
              "Item_MRP                         -0.001315  1.000000   \n",
              "Outlet_Establishment_Year        -0.074834  0.005020   \n",
              "Item_Outlet_Sales                -0.128625  0.567574   \n",
              "\n",
              "                           Outlet_Establishment_Year  Item_Outlet_Sales  \n",
              "Item_Visibility                            -0.074834          -0.128625  \n",
              "Item_MRP                                    0.005020           0.567574  \n",
              "Outlet_Establishment_Year                   1.000000          -0.049135  \n",
              "Item_Outlet_Sales                          -0.049135           1.000000  "
            ],
            "text/html": [
              "\n",
              "  <div id=\"df-28f02fd2-8420-4cfb-af02-198533184b87\">\n",
              "    <div class=\"colab-df-container\">\n",
              "      <div>\n",
              "<style scoped>\n",
              "    .dataframe tbody tr th:only-of-type {\n",
              "        vertical-align: middle;\n",
              "    }\n",
              "\n",
              "    .dataframe tbody tr th {\n",
              "        vertical-align: top;\n",
              "    }\n",
              "\n",
              "    .dataframe thead th {\n",
              "        text-align: right;\n",
              "    }\n",
              "</style>\n",
              "<table border=\"1\" class=\"dataframe\">\n",
              "  <thead>\n",
              "    <tr style=\"text-align: right;\">\n",
              "      <th></th>\n",
              "      <th>Item_Visibility</th>\n",
              "      <th>Item_MRP</th>\n",
              "      <th>Outlet_Establishment_Year</th>\n",
              "      <th>Item_Outlet_Sales</th>\n",
              "    </tr>\n",
              "  </thead>\n",
              "  <tbody>\n",
              "    <tr>\n",
              "      <th>Item_Visibility</th>\n",
              "      <td>1.000000</td>\n",
              "      <td>-0.001315</td>\n",
              "      <td>-0.074834</td>\n",
              "      <td>-0.128625</td>\n",
              "    </tr>\n",
              "    <tr>\n",
              "      <th>Item_MRP</th>\n",
              "      <td>-0.001315</td>\n",
              "      <td>1.000000</td>\n",
              "      <td>0.005020</td>\n",
              "      <td>0.567574</td>\n",
              "    </tr>\n",
              "    <tr>\n",
              "      <th>Outlet_Establishment_Year</th>\n",
              "      <td>-0.074834</td>\n",
              "      <td>0.005020</td>\n",
              "      <td>1.000000</td>\n",
              "      <td>-0.049135</td>\n",
              "    </tr>\n",
              "    <tr>\n",
              "      <th>Item_Outlet_Sales</th>\n",
              "      <td>-0.128625</td>\n",
              "      <td>0.567574</td>\n",
              "      <td>-0.049135</td>\n",
              "      <td>1.000000</td>\n",
              "    </tr>\n",
              "  </tbody>\n",
              "</table>\n",
              "</div>\n",
              "      <button class=\"colab-df-convert\" onclick=\"convertToInteractive('df-28f02fd2-8420-4cfb-af02-198533184b87')\"\n",
              "              title=\"Convert this dataframe to an interactive table.\"\n",
              "              style=\"display:none;\">\n",
              "        \n",
              "  <svg xmlns=\"http://www.w3.org/2000/svg\" height=\"24px\"viewBox=\"0 0 24 24\"\n",
              "       width=\"24px\">\n",
              "    <path d=\"M0 0h24v24H0V0z\" fill=\"none\"/>\n",
              "    <path d=\"M18.56 5.44l.94 2.06.94-2.06 2.06-.94-2.06-.94-.94-2.06-.94 2.06-2.06.94zm-11 1L8.5 8.5l.94-2.06 2.06-.94-2.06-.94L8.5 2.5l-.94 2.06-2.06.94zm10 10l.94 2.06.94-2.06 2.06-.94-2.06-.94-.94-2.06-.94 2.06-2.06.94z\"/><path d=\"M17.41 7.96l-1.37-1.37c-.4-.4-.92-.59-1.43-.59-.52 0-1.04.2-1.43.59L10.3 9.45l-7.72 7.72c-.78.78-.78 2.05 0 2.83L4 21.41c.39.39.9.59 1.41.59.51 0 1.02-.2 1.41-.59l7.78-7.78 2.81-2.81c.8-.78.8-2.07 0-2.86zM5.41 20L4 18.59l7.72-7.72 1.47 1.35L5.41 20z\"/>\n",
              "  </svg>\n",
              "      </button>\n",
              "      \n",
              "  <style>\n",
              "    .colab-df-container {\n",
              "      display:flex;\n",
              "      flex-wrap:wrap;\n",
              "      gap: 12px;\n",
              "    }\n",
              "\n",
              "    .colab-df-convert {\n",
              "      background-color: #E8F0FE;\n",
              "      border: none;\n",
              "      border-radius: 50%;\n",
              "      cursor: pointer;\n",
              "      display: none;\n",
              "      fill: #1967D2;\n",
              "      height: 32px;\n",
              "      padding: 0 0 0 0;\n",
              "      width: 32px;\n",
              "    }\n",
              "\n",
              "    .colab-df-convert:hover {\n",
              "      background-color: #E2EBFA;\n",
              "      box-shadow: 0px 1px 2px rgba(60, 64, 67, 0.3), 0px 1px 3px 1px rgba(60, 64, 67, 0.15);\n",
              "      fill: #174EA6;\n",
              "    }\n",
              "\n",
              "    [theme=dark] .colab-df-convert {\n",
              "      background-color: #3B4455;\n",
              "      fill: #D2E3FC;\n",
              "    }\n",
              "\n",
              "    [theme=dark] .colab-df-convert:hover {\n",
              "      background-color: #434B5C;\n",
              "      box-shadow: 0px 1px 3px 1px rgba(0, 0, 0, 0.15);\n",
              "      filter: drop-shadow(0px 1px 2px rgba(0, 0, 0, 0.3));\n",
              "      fill: #FFFFFF;\n",
              "    }\n",
              "  </style>\n",
              "\n",
              "      <script>\n",
              "        const buttonEl =\n",
              "          document.querySelector('#df-28f02fd2-8420-4cfb-af02-198533184b87 button.colab-df-convert');\n",
              "        buttonEl.style.display =\n",
              "          google.colab.kernel.accessAllowed ? 'block' : 'none';\n",
              "\n",
              "        async function convertToInteractive(key) {\n",
              "          const element = document.querySelector('#df-28f02fd2-8420-4cfb-af02-198533184b87');\n",
              "          const dataTable =\n",
              "            await google.colab.kernel.invokeFunction('convertToInteractive',\n",
              "                                                     [key], {});\n",
              "          if (!dataTable) return;\n",
              "\n",
              "          const docLinkHtml = 'Like what you see? Visit the ' +\n",
              "            '<a target=\"_blank\" href=https://colab.research.google.com/notebooks/data_table.ipynb>data table notebook</a>'\n",
              "            + ' to learn more about interactive tables.';\n",
              "          element.innerHTML = '';\n",
              "          dataTable['output_type'] = 'display_data';\n",
              "          await google.colab.output.renderOutput(dataTable, element);\n",
              "          const docLink = document.createElement('div');\n",
              "          docLink.innerHTML = docLinkHtml;\n",
              "          element.appendChild(docLink);\n",
              "        }\n",
              "      </script>\n",
              "    </div>\n",
              "  </div>\n",
              "  "
            ]
          },
          "metadata": {},
          "execution_count": 70
        }
      ]
    },
    {
      "cell_type": "code",
      "source": [
        "plt.figure(figsize = (15, 15))\n",
        "sns.heatmap(corr, cmap='coolwarm', annot=True)\n",
        "#The correlation is strong an item will sell at a higher MRP and in turn will have higher total sales and an item MRP is more likely to sell at an established store although item visibility doesnt seem to show much of a differnce in sales.\n"
      ],
      "metadata": {
        "colab": {
          "base_uri": "https://localhost:8080/",
          "height": 885
        },
        "id": "tjD4mQKqF6ej",
        "outputId": "a93ead24-b839-4f8e-84c6-d52c3811be24"
      },
      "execution_count": 71,
      "outputs": [
        {
          "output_type": "execute_result",
          "data": {
            "text/plain": [
              "<matplotlib.axes._subplots.AxesSubplot at 0x7f10ad6eb490>"
            ]
          },
          "metadata": {},
          "execution_count": 71
        },
        {
          "output_type": "display_data",
          "data": {
            "text/plain": [
              "<Figure size 1080x1080 with 2 Axes>"
            ],
            "image/png": "[encoded data removed]"
          },
          "metadata": {
            "needs_background": "light"
          }
        }
      ]
    },
    {
      "cell_type": "code",
      "source": [
        ""
      ],
      "metadata": {
        "id": "CqGw74K1pMQX"
      },
      "execution_count": 71,
      "outputs": []
    },
    {
      "cell_type": "code",
      "source": [
        ""
      ],
      "metadata": {
        "id": "jKEu7B6Grs2U"
      },
      "execution_count": 71,
      "outputs": []
    },
    {
      "cell_type": "code",
      "source": [
        "num = 1\n",
        "if num ('Outlet_Establishment_Year') > 2000:\n",
        "  print('1')\n",
        "\n",
        "elif num ('Outlet_Establishment_Year') < 2000:\n",
        "  print('2')\n"
      ],
      "metadata": {
        "colab": {
          "base_uri": "https://localhost:8080/",
          "height": 235
        },
        "id": "sqo8rGHurgMw",
        "outputId": "1d7a5d6a-588b-4829-b5d0-60b0a3509bcd"
      },
      "execution_count": 77,
      "outputs": [
        {
          "output_type": "error",
          "ename": "TypeError",
          "evalue": "ignored",
          "traceback": [
            "\u001b[0;31m---------------------------------------------------------------------------\u001b[0m",
            "\u001b[0;31mTypeError\u001b[0m                                 Traceback (most recent call last)",
            "\u001b[0;32m<ipython-input-77-ce4ccc8c0d0d>\u001b[0m in \u001b[0;36m<module>\u001b[0;34m()\u001b[0m\n\u001b[1;32m      1\u001b[0m \u001b[0mnum\u001b[0m \u001b[0;34m=\u001b[0m \u001b[0;36m1\u001b[0m\u001b[0;34m\u001b[0m\u001b[0;34m\u001b[0m\u001b[0m\n\u001b[0;32m----> 2\u001b[0;31m \u001b[0;32mif\u001b[0m \u001b[0mnum\u001b[0m \u001b[0;34m(\u001b[0m\u001b[0;34m'Outlet_Establishment_Year'\u001b[0m\u001b[0;34m)\u001b[0m \u001b[0;34m>\u001b[0m \u001b[0;36m2000\u001b[0m\u001b[0;34m:\u001b[0m\u001b[0;34m\u001b[0m\u001b[0;34m\u001b[0m\u001b[0m\n\u001b[0m\u001b[1;32m      3\u001b[0m   \u001b[0mprint\u001b[0m\u001b[0;34m(\u001b[0m\u001b[0;34m'1'\u001b[0m\u001b[0;34m)\u001b[0m\u001b[0;34m\u001b[0m\u001b[0;34m\u001b[0m\u001b[0m\n\u001b[1;32m      4\u001b[0m \u001b[0;34m\u001b[0m\u001b[0m\n\u001b[1;32m      5\u001b[0m \u001b[0;32melif\u001b[0m \u001b[0mnum\u001b[0m \u001b[0;34m(\u001b[0m\u001b[0;34m'Outlet_Establishment_Year'\u001b[0m\u001b[0;34m)\u001b[0m \u001b[0;34m<\u001b[0m \u001b[0;36m2000\u001b[0m\u001b[0;34m:\u001b[0m\u001b[0;34m\u001b[0m\u001b[0;34m\u001b[0m\u001b[0m\n",
            "\u001b[0;31mTypeError\u001b[0m: 'int' object is not callable"
          ]
        }
      ]
    },
    {
      "cell_type": "code",
      "source": [
        "#\n",
        "sns.scatterplot(data=df, x='Item_Establishment_Year', y= \"Item_Outlet_Sales\");"
      ],
      "metadata": {
        "colab": {
          "base_uri": "https://localhost:8080/",
          "height": 328
        },
        "id": "z8Jf_-K9ncST",
        "outputId": "375b83d0-4834-4314-db3f-48fb321a0ac4"
      },
      "execution_count": 76,
      "outputs": [
        {
          "output_type": "error",
          "ename": "ValueError",
          "evalue": "ignored",
          "traceback": [
            "\u001b[0;31m---------------------------------------------------------------------------\u001b[0m",
            "\u001b[0;31mValueError\u001b[0m                                Traceback (most recent call last)",
            "\u001b[0;32m<ipython-input-76-159f6f172e02>\u001b[0m in \u001b[0;36m<module>\u001b[0;34m()\u001b[0m\n\u001b[1;32m      1\u001b[0m \u001b[0;31m#\u001b[0m\u001b[0;34m\u001b[0m\u001b[0;34m\u001b[0m\u001b[0;34m\u001b[0m\u001b[0m\n\u001b[0;32m----> 2\u001b[0;31m \u001b[0msns\u001b[0m\u001b[0;34m.\u001b[0m\u001b[0mscatterplot\u001b[0m\u001b[0;34m(\u001b[0m\u001b[0mdata\u001b[0m\u001b[0;34m=\u001b[0m\u001b[0mdf\u001b[0m\u001b[0;34m,\u001b[0m \u001b[0mx\u001b[0m\u001b[0;34m=\u001b[0m\u001b[0;34m'Item_Establishment_Year'\u001b[0m\u001b[0;34m,\u001b[0m \u001b[0my\u001b[0m\u001b[0;34m=\u001b[0m \u001b[0;34m\"Item_Outlet_Sales\"\u001b[0m\u001b[0;34m)\u001b[0m\u001b[0;34m;\u001b[0m\u001b[0;34m\u001b[0m\u001b[0;34m\u001b[0m\u001b[0m\n\u001b[0m",
            "\u001b[0;32m/usr/local/lib/python3.7/dist-packages/seaborn/_decorators.py\u001b[0m in \u001b[0;36minner_f\u001b[0;34m(*args, **kwargs)\u001b[0m\n\u001b[1;32m     44\u001b[0m             )\n\u001b[1;32m     45\u001b[0m         \u001b[0mkwargs\u001b[0m\u001b[0;34m.\u001b[0m\u001b[0mupdate\u001b[0m\u001b[0;34m(\u001b[0m\u001b[0;34m{\u001b[0m\u001b[0mk\u001b[0m\u001b[0;34m:\u001b[0m \u001b[0marg\u001b[0m \u001b[0;32mfor\u001b[0m \u001b[0mk\u001b[0m\u001b[0;34m,\u001b[0m \u001b[0marg\u001b[0m \u001b[0;32min\u001b[0m \u001b[0mzip\u001b[0m\u001b[0;34m(\u001b[0m\u001b[0msig\u001b[0m\u001b[0;34m.\u001b[0m\u001b[0mparameters\u001b[0m\u001b[0;34m,\u001b[0m \u001b[0margs\u001b[0m\u001b[0;34m)\u001b[0m\u001b[0;34m}\u001b[0m\u001b[0;34m)\u001b[0m\u001b[0;34m\u001b[0m\u001b[0;34m\u001b[0m\u001b[0m\n\u001b[0;32m---> 46\u001b[0;31m         \u001b[0;32mreturn\u001b[0m \u001b[0mf\u001b[0m\u001b[0;34m(\u001b[0m\u001b[0;34m**\u001b[0m\u001b[0mkwargs\u001b[0m\u001b[0;34m)\u001b[0m\u001b[0;34m\u001b[0m\u001b[0;34m\u001b[0m\u001b[0m\n\u001b[0m\u001b[1;32m     47\u001b[0m     \u001b[0;32mreturn\u001b[0m \u001b[0minner_f\u001b[0m\u001b[0;34m\u001b[0m\u001b[0;34m\u001b[0m\u001b[0m\n\u001b[1;32m     48\u001b[0m \u001b[0;34m\u001b[0m\u001b[0m\n",
            "\u001b[0;32m/usr/local/lib/python3.7/dist-packages/seaborn/relational.py\u001b[0m in \u001b[0;36mscatterplot\u001b[0;34m(x, y, hue, style, size, data, palette, hue_order, hue_norm, sizes, size_order, size_norm, markers, style_order, x_bins, y_bins, units, estimator, ci, n_boot, alpha, x_jitter, y_jitter, legend, ax, **kwargs)\u001b[0m\n\u001b[1;32m    810\u001b[0m         \u001b[0mx_bins\u001b[0m\u001b[0;34m=\u001b[0m\u001b[0mx_bins\u001b[0m\u001b[0;34m,\u001b[0m \u001b[0my_bins\u001b[0m\u001b[0;34m=\u001b[0m\u001b[0my_bins\u001b[0m\u001b[0;34m,\u001b[0m\u001b[0;34m\u001b[0m\u001b[0;34m\u001b[0m\u001b[0m\n\u001b[1;32m    811\u001b[0m         \u001b[0mestimator\u001b[0m\u001b[0;34m=\u001b[0m\u001b[0mestimator\u001b[0m\u001b[0;34m,\u001b[0m \u001b[0mci\u001b[0m\u001b[0;34m=\u001b[0m\u001b[0mci\u001b[0m\u001b[0;34m,\u001b[0m \u001b[0mn_boot\u001b[0m\u001b[0;34m=\u001b[0m\u001b[0mn_boot\u001b[0m\u001b[0;34m,\u001b[0m\u001b[0;34m\u001b[0m\u001b[0;34m\u001b[0m\u001b[0m\n\u001b[0;32m--> 812\u001b[0;31m         \u001b[0malpha\u001b[0m\u001b[0;34m=\u001b[0m\u001b[0malpha\u001b[0m\u001b[0;34m,\u001b[0m \u001b[0mx_jitter\u001b[0m\u001b[0;34m=\u001b[0m\u001b[0mx_jitter\u001b[0m\u001b[0;34m,\u001b[0m \u001b[0my_jitter\u001b[0m\u001b[0;34m=\u001b[0m\u001b[0my_jitter\u001b[0m\u001b[0;34m,\u001b[0m \u001b[0mlegend\u001b[0m\u001b[0;34m=\u001b[0m\u001b[0mlegend\u001b[0m\u001b[0;34m,\u001b[0m\u001b[0;34m\u001b[0m\u001b[0;34m\u001b[0m\u001b[0m\n\u001b[0m\u001b[1;32m    813\u001b[0m     )\n\u001b[1;32m    814\u001b[0m \u001b[0;34m\u001b[0m\u001b[0m\n",
            "\u001b[0;32m/usr/local/lib/python3.7/dist-packages/seaborn/relational.py\u001b[0m in \u001b[0;36m__init__\u001b[0;34m(self, data, variables, x_bins, y_bins, estimator, ci, n_boot, alpha, x_jitter, y_jitter, legend)\u001b[0m\n\u001b[1;32m    585\u001b[0m         )\n\u001b[1;32m    586\u001b[0m \u001b[0;34m\u001b[0m\u001b[0m\n\u001b[0;32m--> 587\u001b[0;31m         \u001b[0msuper\u001b[0m\u001b[0;34m(\u001b[0m\u001b[0;34m)\u001b[0m\u001b[0;34m.\u001b[0m\u001b[0m__init__\u001b[0m\u001b[0;34m(\u001b[0m\u001b[0mdata\u001b[0m\u001b[0;34m=\u001b[0m\u001b[0mdata\u001b[0m\u001b[0;34m,\u001b[0m \u001b[0mvariables\u001b[0m\u001b[0;34m=\u001b[0m\u001b[0mvariables\u001b[0m\u001b[0;34m)\u001b[0m\u001b[0;34m\u001b[0m\u001b[0;34m\u001b[0m\u001b[0m\n\u001b[0m\u001b[1;32m    588\u001b[0m \u001b[0;34m\u001b[0m\u001b[0m\n\u001b[1;32m    589\u001b[0m         \u001b[0mself\u001b[0m\u001b[0;34m.\u001b[0m\u001b[0malpha\u001b[0m \u001b[0;34m=\u001b[0m \u001b[0malpha\u001b[0m\u001b[0;34m\u001b[0m\u001b[0;34m\u001b[0m\u001b[0m\n",
            "\u001b[0;32m/usr/local/lib/python3.7/dist-packages/seaborn/_core.py\u001b[0m in \u001b[0;36m__init__\u001b[0;34m(self, data, variables)\u001b[0m\n\u001b[1;32m    603\u001b[0m     \u001b[0;32mdef\u001b[0m \u001b[0m__init__\u001b[0m\u001b[0;34m(\u001b[0m\u001b[0mself\u001b[0m\u001b[0;34m,\u001b[0m \u001b[0mdata\u001b[0m\u001b[0;34m=\u001b[0m\u001b[0;32mNone\u001b[0m\u001b[0;34m,\u001b[0m \u001b[0mvariables\u001b[0m\u001b[0;34m=\u001b[0m\u001b[0;34m{\u001b[0m\u001b[0;34m}\u001b[0m\u001b[0;34m)\u001b[0m\u001b[0;34m:\u001b[0m\u001b[0;34m\u001b[0m\u001b[0;34m\u001b[0m\u001b[0m\n\u001b[1;32m    604\u001b[0m \u001b[0;34m\u001b[0m\u001b[0m\n\u001b[0;32m--> 605\u001b[0;31m         \u001b[0mself\u001b[0m\u001b[0;34m.\u001b[0m\u001b[0massign_variables\u001b[0m\u001b[0;34m(\u001b[0m\u001b[0mdata\u001b[0m\u001b[0;34m,\u001b[0m \u001b[0mvariables\u001b[0m\u001b[0;34m)\u001b[0m\u001b[0;34m\u001b[0m\u001b[0;34m\u001b[0m\u001b[0m\n\u001b[0m\u001b[1;32m    606\u001b[0m \u001b[0;34m\u001b[0m\u001b[0m\n\u001b[1;32m    607\u001b[0m         \u001b[0;32mfor\u001b[0m \u001b[0mvar\u001b[0m\u001b[0;34m,\u001b[0m \u001b[0mcls\u001b[0m \u001b[0;32min\u001b[0m \u001b[0mself\u001b[0m\u001b[0;34m.\u001b[0m\u001b[0m_semantic_mappings\u001b[0m\u001b[0;34m.\u001b[0m\u001b[0mitems\u001b[0m\u001b[0;34m(\u001b[0m\u001b[0;34m)\u001b[0m\u001b[0;34m:\u001b[0m\u001b[0;34m\u001b[0m\u001b[0;34m\u001b[0m\u001b[0m\n",
            "\u001b[0;32m/usr/local/lib/python3.7/dist-packages/seaborn/_core.py\u001b[0m in \u001b[0;36massign_variables\u001b[0;34m(self, data, variables)\u001b[0m\n\u001b[1;32m    667\u001b[0m             \u001b[0mself\u001b[0m\u001b[0;34m.\u001b[0m\u001b[0minput_format\u001b[0m \u001b[0;34m=\u001b[0m \u001b[0;34m\"long\"\u001b[0m\u001b[0;34m\u001b[0m\u001b[0;34m\u001b[0m\u001b[0m\n\u001b[1;32m    668\u001b[0m             plot_data, variables = self._assign_variables_longform(\n\u001b[0;32m--> 669\u001b[0;31m                 \u001b[0mdata\u001b[0m\u001b[0;34m,\u001b[0m \u001b[0;34m**\u001b[0m\u001b[0mvariables\u001b[0m\u001b[0;34m,\u001b[0m\u001b[0;34m\u001b[0m\u001b[0;34m\u001b[0m\u001b[0m\n\u001b[0m\u001b[1;32m    670\u001b[0m             )\n\u001b[1;32m    671\u001b[0m \u001b[0;34m\u001b[0m\u001b[0m\n",
            "\u001b[0;32m/usr/local/lib/python3.7/dist-packages/seaborn/_core.py\u001b[0m in \u001b[0;36m_assign_variables_longform\u001b[0;34m(self, data, **kwargs)\u001b[0m\n\u001b[1;32m    901\u001b[0m \u001b[0;34m\u001b[0m\u001b[0m\n\u001b[1;32m    902\u001b[0m                 \u001b[0merr\u001b[0m \u001b[0;34m=\u001b[0m \u001b[0;34mf\"Could not interpret value `{val}` for parameter `{key}`\"\u001b[0m\u001b[0;34m\u001b[0m\u001b[0;34m\u001b[0m\u001b[0m\n\u001b[0;32m--> 903\u001b[0;31m                 \u001b[0;32mraise\u001b[0m \u001b[0mValueError\u001b[0m\u001b[0;34m(\u001b[0m\u001b[0merr\u001b[0m\u001b[0;34m)\u001b[0m\u001b[0;34m\u001b[0m\u001b[0;34m\u001b[0m\u001b[0m\n\u001b[0m\u001b[1;32m    904\u001b[0m \u001b[0;34m\u001b[0m\u001b[0m\n\u001b[1;32m    905\u001b[0m             \u001b[0;32melse\u001b[0m\u001b[0;34m:\u001b[0m\u001b[0;34m\u001b[0m\u001b[0;34m\u001b[0m\u001b[0m\n",
            "\u001b[0;31mValueError\u001b[0m: Could not interpret value `Item_Establishment_Year` for parameter `x`"
          ]
        }
      ]
    },
    {
      "cell_type": "code",
      "source": [
        "avg = df.groupby('Outlet_Establishment_Year')['Item_Outlet_Sales'].mean()\n",
        "avg"
      ],
      "metadata": {
        "colab": {
          "base_uri": "https://localhost:8080/"
        },
        "id": "Joh46FiFtK3Q",
        "outputId": "7e35b2b7-5367-4dc7-d725-85fc24a30876"
      },
      "execution_count": 75,
      "outputs": [
        {
          "output_type": "execute_result",
          "data": {
            "text/plain": [
              "Outlet_Establishment_Year\n",
              "1985    2483.677474\n",
              "1987    2298.995256\n",
              "1997    2277.844267\n",
              "1998     339.351662\n",
              "1999    2348.354635\n",
              "2002    2192.384798\n",
              "2004    2438.841866\n",
              "2007    2340.675263\n",
              "2009    1995.498739\n",
              "Name: Item_Outlet_Sales, dtype: float64"
            ]
          },
          "metadata": {},
          "execution_count": 75
        }
      ]
    },
    {
      "cell_type": "code",
      "source": [
        "plt.bar(avg.index, avg.values)\n",
        "plt.ylabel= 'Outlet Sales'\n",
        "plt.xlabel='Establishment Year'\n",
        "plt.show()"
      ],
      "metadata": {
        "colab": {
          "base_uri": "https://localhost:8080/",
          "height": 217
        },
        "id": "y1nr3FKRtw3k",
        "outputId": "2f472c41-5531-45de-eade-d2e71225b098"
      },
      "execution_count": 74,
      "outputs": [
        {
          "output_type": "error",
          "ename": "NameError",
          "evalue": "ignored",
          "traceback": [
            "\u001b[0;31m---------------------------------------------------------------------------\u001b[0m",
            "\u001b[0;31mNameError\u001b[0m                                 Traceback (most recent call last)",
            "\u001b[0;32m<ipython-input-74-a6cef5c219d9>\u001b[0m in \u001b[0;36m<module>\u001b[0;34m()\u001b[0m\n\u001b[0;32m----> 1\u001b[0;31m \u001b[0mplt\u001b[0m\u001b[0;34m.\u001b[0m\u001b[0mbar\u001b[0m\u001b[0;34m(\u001b[0m\u001b[0mavg\u001b[0m\u001b[0;34m.\u001b[0m\u001b[0mindex\u001b[0m\u001b[0;34m,\u001b[0m \u001b[0mavg\u001b[0m\u001b[0;34m.\u001b[0m\u001b[0mvalues\u001b[0m\u001b[0;34m)\u001b[0m\u001b[0;34m\u001b[0m\u001b[0;34m\u001b[0m\u001b[0m\n\u001b[0m\u001b[1;32m      2\u001b[0m \u001b[0mplt\u001b[0m\u001b[0;34m.\u001b[0m\u001b[0mylabel\u001b[0m\u001b[0;34m=\u001b[0m \u001b[0;34m'Outlet Sales'\u001b[0m\u001b[0;34m\u001b[0m\u001b[0;34m\u001b[0m\u001b[0m\n\u001b[1;32m      3\u001b[0m \u001b[0mplt\u001b[0m\u001b[0;34m.\u001b[0m\u001b[0mxlabel\u001b[0m\u001b[0;34m=\u001b[0m\u001b[0;34m'Establishment Year'\u001b[0m\u001b[0;34m\u001b[0m\u001b[0;34m\u001b[0m\u001b[0m\n\u001b[1;32m      4\u001b[0m \u001b[0mplt\u001b[0m\u001b[0;34m.\u001b[0m\u001b[0mshow\u001b[0m\u001b[0;34m(\u001b[0m\u001b[0;34m)\u001b[0m\u001b[0;34m\u001b[0m\u001b[0;34m\u001b[0m\u001b[0m\n",
            "\u001b[0;31mNameError\u001b[0m: name 'avg' is not defined"
          ]
        }
      ]
    },
    {
      "cell_type": "code",
      "source": [
        "sns.barplot(data=df, x='Outlet_Establishment_Year', y='Item_Outlet_Sales');"
      ],
      "metadata": {
        "colab": {
          "base_uri": "https://localhost:8080/",
          "height": 280
        },
        "id": "az3WcGrEuh9X",
        "outputId": "37468c05-cf8a-4ff9-c2c2-5f568ffadb52"
      },
      "execution_count": 73,
      "outputs": [
        {
          "output_type": "display_data",
          "data": {
            "text/plain": [
              "<Figure size 432x288 with 1 Axes>"
            ],
            "image/png": "[encoded data removed]"
          },
          "metadata": {
            "needs_background": "light"
          }
        }
      ]
    }
  ]
}